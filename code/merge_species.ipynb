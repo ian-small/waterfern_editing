{
 "cells": [
  {
   "cell_type": "code",
   "execution_count": 10,
   "metadata": {},
   "outputs": [],
   "source": [
    "using CSV, DataFrames"
   ]
  },
  {
   "cell_type": "code",
   "execution_count": 11,
   "metadata": {},
   "outputs": [
    {
     "data": {
      "text/plain": [
       "uid (generic function with 1 method)"
      ]
     },
     "metadata": {},
     "output_type": "display_data"
    }
   ],
   "source": [
    "function uid(ref_id::Union{Missing,AbstractString})\n",
    "    ismissing(ref_id) && return missing\n",
    "    ref_id[1:end-6]\n",
    "end"
   ]
  },
  {
   "cell_type": "code",
   "execution_count": null,
   "metadata": {},
   "outputs": [
    {
     "data": {
      "text/plain": [
       "Dict{String, DataFrame} with 5 entries:\n",
       "  \"ar\" => \u001b[1m570×22 DataFrame\u001b[0m\u001b[0m…\n",
       "  \"ap\" => \u001b[1m384×22 DataFrame\u001b[0m\u001b[0m…\n",
       "  \"mm\" => \u001b[1m344×22 DataFrame\u001b[0m\u001b[0m…\n",
       "  \"af\" => \u001b[1m593×22 DataFrame\u001b[0m\u001b[0m…\n",
       "  \"sm\" => \u001b[1m324×22 DataFrame\u001b[0m\u001b[0m…"
      ]
     },
     "metadata": {},
     "output_type": "display_data"
    }
   ],
   "source": [
    "species = [\"af\",\"ar\",\"ap\",\"sm\",\"mm\"]\n",
    "organelle = \"cp\"\n",
    "dfs = Dict{String, DataFrame}()\n",
    "for s in species\n",
    "    dfs[s] = CSV.File(\"../data/$organelle/edit_sites/$s\" * \"_$organelle\" * \"_editing_events.tsv\") |> DataFrame\n",
    "    dfs[s].uid = uid.(dfs[s].ref_id)\n",
    "end\n",
    "dfs"
   ]
  },
  {
   "cell_type": "code",
   "execution_count": 4,
   "metadata": {},
   "outputs": [
    {
     "name": "stdout",
     "output_type": "stream",
     "text": [
      "573\n",
      "af\n",
      "ar\n",
      "592\n",
      "ap\n",
      "654\n",
      "sm\n",
      "756\n",
      "mm\n",
      "959\n"
     ]
    },
    {
     "data": {
      "text/html": [
       "<div><div style = \"float: left;\"><span>959×10 DataFrame</span></div><div style = \"float: right;\"><span style = \"font-style: italic;\">934 rows omitted</span></div><div style = \"clear: both;\"></div></div><div class = \"data-frame\" style = \"overflow-x: scroll;\"><table class = \"data-frame\" style = \"margin-bottom: 6px;\"><thead><tr class = \"header\"><th class = \"rowNumber\" style = \"font-weight: bold; text-align: right;\">Row</th><th style = \"text-align: left;\">uid</th><th style = \"text-align: left;\">synonymous</th><th style = \"text-align: left;\">creates_start</th><th style = \"text-align: left;\">creates_stop</th><th style = \"text-align: left;\">removes_stop</th><th style = \"text-align: left;\">af</th><th style = \"text-align: left;\">ar</th><th style = \"text-align: left;\">ap</th><th style = \"text-align: left;\">sm</th><th style = \"text-align: left;\">mm</th></tr><tr class = \"subheader headerLastRow\"><th class = \"rowNumber\" style = \"font-weight: bold; text-align: right;\"></th><th title = \"String31\" style = \"text-align: left;\">String31</th><th title = \"Bool\" style = \"text-align: left;\">Bool</th><th title = \"Bool\" style = \"text-align: left;\">Bool</th><th title = \"Bool\" style = \"text-align: left;\">Bool</th><th title = \"Bool\" style = \"text-align: left;\">Bool</th><th title = \"Union{Missing, Float64}\" style = \"text-align: left;\">Float64?</th><th title = \"Union{Missing, Float64}\" style = \"text-align: left;\">Float64?</th><th title = \"Union{Missing, Float64}\" style = \"text-align: left;\">Float64?</th><th title = \"Union{Missing, Float64}\" style = \"text-align: left;\">Float64?</th><th title = \"Union{Missing, Float64}\" style = \"text-align: left;\">Float64?</th></tr></thead><tbody><tr><td class = \"rowNumber\" style = \"font-weight: bold; text-align: right;\">1</td><td style = \"text-align: left;\">chlBeC250</td><td style = \"text-align: right;\">false</td><td style = \"text-align: right;\">false</td><td style = \"text-align: right;\">false</td><td style = \"text-align: right;\">true</td><td style = \"text-align: right;\">0.796238</td><td style = \"text-align: right;\">0.852128</td><td style = \"text-align: right;\">0.748897</td><td style = \"text-align: right;\">0.60561</td><td style = \"text-align: right;\">0.849257</td></tr><tr><td class = \"rowNumber\" style = \"font-weight: bold; text-align: right;\">2</td><td style = \"text-align: left;\">atpAeC103</td><td style = \"text-align: right;\">false</td><td style = \"text-align: right;\">false</td><td style = \"text-align: right;\">false</td><td style = \"text-align: right;\">true</td><td style = \"text-align: right;\">0.744986</td><td style = \"text-align: right;\">0.898776</td><td style = \"text-align: right;\">0.958652</td><td style = \"text-align: right;\">0.903646</td><td style = \"text-align: right;\">0.974135</td></tr><tr><td class = \"rowNumber\" style = \"font-weight: bold; text-align: right;\">3</td><td style = \"text-align: left;\">atpIeU542</td><td style = \"text-align: right;\">false</td><td style = \"text-align: right;\">false</td><td style = \"text-align: right;\">false</td><td style = \"text-align: right;\">false</td><td style = \"text-align: right;\">0.944674</td><td style = \"text-align: right;\">0.984077</td><td style = \"text-align: right;\">0.976229</td><td style = \"text-align: right;\">0.989527</td><td style = \"text-align: right;\">0.986831</td></tr><tr><td class = \"rowNumber\" style = \"font-weight: bold; text-align: right;\">4</td><td style = \"text-align: left;\">atpIeU428</td><td style = \"text-align: right;\">false</td><td style = \"text-align: right;\">false</td><td style = \"text-align: right;\">false</td><td style = \"text-align: right;\">false</td><td style = \"text-align: right;\">0.974987</td><td style = \"text-align: right;\">0.965257</td><td style = \"text-align: right;\">0.945537</td><td style = \"text-align: right;\">0.898116</td><td style = \"text-align: right;\">0.991604</td></tr><tr><td class = \"rowNumber\" style = \"font-weight: bold; text-align: right;\">5</td><td style = \"text-align: left;\">atpIeC70</td><td style = \"text-align: right;\">false</td><td style = \"text-align: right;\">false</td><td style = \"text-align: right;\">false</td><td style = \"text-align: right;\">true</td><td style = \"text-align: right;\">0.637333</td><td style = \"text-align: right;\">0.918908</td><td style = \"text-align: right;\">0.918361</td><td style = \"text-align: right;\">0.748183</td><td style = \"text-align: right;\">0.797727</td></tr><tr><td class = \"rowNumber\" style = \"font-weight: bold; text-align: right;\">6</td><td style = \"text-align: left;\">rps2eC517</td><td style = \"text-align: right;\">false</td><td style = \"text-align: right;\">false</td><td style = \"text-align: right;\">false</td><td style = \"text-align: right;\">true</td><td style = \"text-align: right;\">0.644831</td><td style = \"text-align: right;\">0.85981</td><td style = \"text-align: right;\">0.871076</td><td style = \"text-align: right;\">0.922226</td><td style = \"text-align: right;\">0.905572</td></tr><tr><td class = \"rowNumber\" style = \"font-weight: bold; text-align: right;\">7</td><td style = \"text-align: left;\">rps2eC430</td><td style = \"text-align: right;\">false</td><td style = \"text-align: right;\">false</td><td style = \"text-align: right;\">false</td><td style = \"text-align: right;\">true</td><td style = \"text-align: right;\">0.717077</td><td style = \"text-align: right;\">0.88548</td><td style = \"text-align: right;\">0.952842</td><td style = \"text-align: right;\">0.891914</td><td style = \"text-align: right;\">0.919989</td></tr><tr><td class = \"rowNumber\" style = \"font-weight: bold; text-align: right;\">8</td><td style = \"text-align: left;\">rps2eU2</td><td style = \"text-align: right;\">false</td><td style = \"text-align: right;\">true</td><td style = \"text-align: right;\">false</td><td style = \"text-align: right;\">false</td><td style = \"text-align: right;\">0.213942</td><td style = \"text-align: right;\">0.291248</td><td style = \"text-align: right;\">0.262036</td><td style = \"text-align: right;\">0.753396</td><td style = \"text-align: right;\">0.892178</td></tr><tr><td class = \"rowNumber\" style = \"font-weight: bold; text-align: right;\">9</td><td style = \"text-align: left;\">rpoC2eC3718</td><td style = \"text-align: right;\">false</td><td style = \"text-align: right;\">false</td><td style = \"text-align: right;\">false</td><td style = \"text-align: right;\">true</td><td style = \"text-align: right;\">0.678869</td><td style = \"text-align: right;\">0.84528</td><td style = \"text-align: right;\">0.841689</td><td style = \"text-align: right;\">0.946325</td><td style = \"text-align: right;\">0.875472</td></tr><tr><td class = \"rowNumber\" style = \"font-weight: bold; text-align: right;\">10</td><td style = \"text-align: left;\">rpoC2eC217</td><td style = \"text-align: right;\">false</td><td style = \"text-align: right;\">false</td><td style = \"text-align: right;\">false</td><td style = \"text-align: right;\">true</td><td style = \"text-align: right;\">0.217105</td><td style = \"text-align: right;\">0.475177</td><td style = \"text-align: right;\">0.512397</td><td style = \"text-align: right;\">0.446512</td><td style = \"text-align: right;\">0.787582</td></tr><tr><td class = \"rowNumber\" style = \"font-weight: bold; text-align: right;\">11</td><td style = \"text-align: left;\">rpoC2eU170</td><td style = \"text-align: right;\">false</td><td style = \"text-align: right;\">false</td><td style = \"text-align: right;\">false</td><td style = \"text-align: right;\">false</td><td style = \"text-align: right;\">0.762887</td><td style = \"text-align: right;\">0.779736</td><td style = \"text-align: right;\">0.837607</td><td style = \"text-align: right;\">0.795455</td><td style = \"text-align: right;\">0.893993</td></tr><tr><td class = \"rowNumber\" style = \"font-weight: bold; text-align: right;\">12</td><td style = \"text-align: left;\">rpoC1eU872</td><td style = \"text-align: right;\">false</td><td style = \"text-align: right;\">false</td><td style = \"text-align: right;\">false</td><td style = \"text-align: right;\">false</td><td style = \"text-align: right;\">0.626016</td><td style = \"text-align: right;\">0.921569</td><td style = \"text-align: right;\">0.885481</td><td style = \"text-align: right;\">0.902794</td><td style = \"text-align: right;\">0.916793</td></tr><tr><td class = \"rowNumber\" style = \"font-weight: bold; text-align: right;\">13</td><td style = \"text-align: left;\">rpoC1eU133</td><td style = \"text-align: right;\">false</td><td style = \"text-align: right;\">false</td><td style = \"text-align: right;\">false</td><td style = \"text-align: right;\">false</td><td style = \"text-align: right;\">0.901639</td><td style = \"text-align: right;\">0.915201</td><td style = \"text-align: right;\">0.914319</td><td style = \"text-align: right;\">0.876523</td><td style = \"text-align: right;\">0.841379</td></tr><tr><td style = \"text-align: right;\">&vellip;</td><td style = \"text-align: right;\">&vellip;</td><td style = \"text-align: right;\">&vellip;</td><td style = \"text-align: right;\">&vellip;</td><td style = \"text-align: right;\">&vellip;</td><td style = \"text-align: right;\">&vellip;</td><td style = \"text-align: right;\">&vellip;</td><td style = \"text-align: right;\">&vellip;</td><td style = \"text-align: right;\">&vellip;</td><td style = \"text-align: right;\">&vellip;</td><td style = \"text-align: right;\">&vellip;</td></tr><tr><td class = \"rowNumber\" style = \"font-weight: bold; text-align: right;\">948</td><td style = \"text-align: left;\">ndhBeU1492</td><td style = \"text-align: right;\">false</td><td style = \"text-align: right;\">false</td><td style = \"text-align: right;\">true</td><td style = \"text-align: right;\">false</td><td style = \"font-style: italic; text-align: right;\">missing</td><td style = \"font-style: italic; text-align: right;\">missing</td><td style = \"font-style: italic; text-align: right;\">missing</td><td style = \"font-style: italic; text-align: right;\">missing</td><td style = \"text-align: right;\">0.983657</td></tr><tr><td class = \"rowNumber\" style = \"font-weight: bold; text-align: right;\">949</td><td style = \"text-align: left;\">ndhBeU1451</td><td style = \"text-align: right;\">false</td><td style = \"text-align: right;\">false</td><td style = \"text-align: right;\">false</td><td style = \"text-align: right;\">false</td><td style = \"font-style: italic; text-align: right;\">missing</td><td style = \"font-style: italic; text-align: right;\">missing</td><td style = \"font-style: italic; text-align: right;\">missing</td><td style = \"font-style: italic; text-align: right;\">missing</td><td style = \"text-align: right;\">0.983258</td></tr><tr><td class = \"rowNumber\" style = \"font-weight: bold; text-align: right;\">950</td><td style = \"text-align: left;\">ndhBeU1420</td><td style = \"text-align: right;\">false</td><td style = \"text-align: right;\">false</td><td style = \"text-align: right;\">false</td><td style = \"text-align: right;\">false</td><td style = \"font-style: italic; text-align: right;\">missing</td><td style = \"font-style: italic; text-align: right;\">missing</td><td style = \"font-style: italic; text-align: right;\">missing</td><td style = \"font-style: italic; text-align: right;\">missing</td><td style = \"text-align: right;\">0.987136</td></tr><tr><td class = \"rowNumber\" style = \"font-weight: bold; text-align: right;\">951</td><td style = \"text-align: left;\">ndhBeU1272</td><td style = \"text-align: right;\">true</td><td style = \"text-align: right;\">false</td><td style = \"text-align: right;\">false</td><td style = \"text-align: right;\">false</td><td style = \"font-style: italic; text-align: right;\">missing</td><td style = \"font-style: italic; text-align: right;\">missing</td><td style = \"font-style: italic; text-align: right;\">missing</td><td style = \"font-style: italic; text-align: right;\">missing</td><td style = \"text-align: right;\">0.120159</td></tr><tr><td class = \"rowNumber\" style = \"font-weight: bold; text-align: right;\">952</td><td style = \"text-align: left;\">ndhBeU1250</td><td style = \"text-align: right;\">false</td><td style = \"text-align: right;\">false</td><td style = \"text-align: right;\">false</td><td style = \"text-align: right;\">false</td><td style = \"font-style: italic; text-align: right;\">missing</td><td style = \"font-style: italic; text-align: right;\">missing</td><td style = \"font-style: italic; text-align: right;\">missing</td><td style = \"font-style: italic; text-align: right;\">missing</td><td style = \"text-align: right;\">0.972982</td></tr><tr><td class = \"rowNumber\" style = \"font-weight: bold; text-align: right;\">953</td><td style = \"text-align: left;\">ndhBeU1235</td><td style = \"text-align: right;\">false</td><td style = \"text-align: right;\">false</td><td style = \"text-align: right;\">false</td><td style = \"text-align: right;\">false</td><td style = \"font-style: italic; text-align: right;\">missing</td><td style = \"font-style: italic; text-align: right;\">missing</td><td style = \"font-style: italic; text-align: right;\">missing</td><td style = \"font-style: italic; text-align: right;\">missing</td><td style = \"text-align: right;\">0.986714</td></tr><tr><td class = \"rowNumber\" style = \"font-weight: bold; text-align: right;\">954</td><td style = \"text-align: left;\">ndhBeU1181</td><td style = \"text-align: right;\">false</td><td style = \"text-align: right;\">false</td><td style = \"text-align: right;\">false</td><td style = \"text-align: right;\">false</td><td style = \"font-style: italic; text-align: right;\">missing</td><td style = \"font-style: italic; text-align: right;\">missing</td><td style = \"font-style: italic; text-align: right;\">missing</td><td style = \"font-style: italic; text-align: right;\">missing</td><td style = \"text-align: right;\">0.937322</td></tr><tr><td class = \"rowNumber\" style = \"font-weight: bold; text-align: right;\">955</td><td style = \"text-align: left;\">ndhBeU1161</td><td style = \"text-align: right;\">true</td><td style = \"text-align: right;\">false</td><td style = \"text-align: right;\">false</td><td style = \"text-align: right;\">false</td><td style = \"font-style: italic; text-align: right;\">missing</td><td style = \"font-style: italic; text-align: right;\">missing</td><td style = \"font-style: italic; text-align: right;\">missing</td><td style = \"font-style: italic; text-align: right;\">missing</td><td style = \"text-align: right;\">0.078682</td></tr><tr><td class = \"rowNumber\" style = \"font-weight: bold; text-align: right;\">956</td><td style = \"text-align: left;\">ndhBeU1051</td><td style = \"text-align: right;\">false</td><td style = \"text-align: right;\">false</td><td style = \"text-align: right;\">false</td><td style = \"text-align: right;\">false</td><td style = \"font-style: italic; text-align: right;\">missing</td><td style = \"font-style: italic; text-align: right;\">missing</td><td style = \"font-style: italic; text-align: right;\">missing</td><td style = \"font-style: italic; text-align: right;\">missing</td><td style = \"text-align: right;\">0.950323</td></tr><tr><td class = \"rowNumber\" style = \"font-weight: bold; text-align: right;\">957</td><td style = \"text-align: left;\">ndhBeU1021</td><td style = \"text-align: right;\">false</td><td style = \"text-align: right;\">false</td><td style = \"text-align: right;\">false</td><td style = \"text-align: right;\">false</td><td style = \"font-style: italic; text-align: right;\">missing</td><td style = \"font-style: italic; text-align: right;\">missing</td><td style = \"font-style: italic; text-align: right;\">missing</td><td style = \"font-style: italic; text-align: right;\">missing</td><td style = \"text-align: right;\">0.972766</td></tr><tr><td class = \"rowNumber\" style = \"font-weight: bold; text-align: right;\">958</td><td style = \"text-align: left;\">ndhBeU779</td><td style = \"text-align: right;\">false</td><td style = \"text-align: right;\">false</td><td style = \"text-align: right;\">false</td><td style = \"text-align: right;\">false</td><td style = \"font-style: italic; text-align: right;\">missing</td><td style = \"font-style: italic; text-align: right;\">missing</td><td style = \"font-style: italic; text-align: right;\">missing</td><td style = \"font-style: italic; text-align: right;\">missing</td><td style = \"text-align: right;\">0.9709</td></tr><tr><td class = \"rowNumber\" style = \"font-weight: bold; text-align: right;\">959</td><td style = \"text-align: left;\">ycf2eU2</td><td style = \"text-align: right;\">false</td><td style = \"text-align: right;\">true</td><td style = \"text-align: right;\">false</td><td style = \"text-align: right;\">false</td><td style = \"font-style: italic; text-align: right;\">missing</td><td style = \"font-style: italic; text-align: right;\">missing</td><td style = \"font-style: italic; text-align: right;\">missing</td><td style = \"font-style: italic; text-align: right;\">missing</td><td style = \"text-align: right;\">0.00075815</td></tr></tbody></table></div>"
      ],
      "text/latex": [
       "\\begin{tabular}{r|cccccccc}\n",
       "\t& uid & synonymous & creates\\_start & creates\\_stop & removes\\_stop & af & ar & \\\\\n",
       "\t\\hline\n",
       "\t& String31 & Bool & Bool & Bool & Bool & Float64? & Float64? & \\\\\n",
       "\t\\hline\n",
       "\t1 & chlBeC250 & 0 & 0 & 0 & 1 & 0.796238 & 0.852128 & $\\dots$ \\\\\n",
       "\t2 & atpAeC103 & 0 & 0 & 0 & 1 & 0.744986 & 0.898776 & $\\dots$ \\\\\n",
       "\t3 & atpIeU542 & 0 & 0 & 0 & 0 & 0.944674 & 0.984077 & $\\dots$ \\\\\n",
       "\t4 & atpIeU428 & 0 & 0 & 0 & 0 & 0.974987 & 0.965257 & $\\dots$ \\\\\n",
       "\t5 & atpIeC70 & 0 & 0 & 0 & 1 & 0.637333 & 0.918908 & $\\dots$ \\\\\n",
       "\t6 & rps2eC517 & 0 & 0 & 0 & 1 & 0.644831 & 0.85981 & $\\dots$ \\\\\n",
       "\t7 & rps2eC430 & 0 & 0 & 0 & 1 & 0.717077 & 0.88548 & $\\dots$ \\\\\n",
       "\t8 & rps2eU2 & 0 & 1 & 0 & 0 & 0.213942 & 0.291248 & $\\dots$ \\\\\n",
       "\t9 & rpoC2eC3718 & 0 & 0 & 0 & 1 & 0.678869 & 0.84528 & $\\dots$ \\\\\n",
       "\t10 & rpoC2eC217 & 0 & 0 & 0 & 1 & 0.217105 & 0.475177 & $\\dots$ \\\\\n",
       "\t11 & rpoC2eU170 & 0 & 0 & 0 & 0 & 0.762887 & 0.779736 & $\\dots$ \\\\\n",
       "\t12 & rpoC1eU872 & 0 & 0 & 0 & 0 & 0.626016 & 0.921569 & $\\dots$ \\\\\n",
       "\t13 & rpoC1eU133 & 0 & 0 & 0 & 0 & 0.901639 & 0.915201 & $\\dots$ \\\\\n",
       "\t14 & rpoC1eC115 & 0 & 0 & 0 & 1 & 0.417671 & 0.715494 & $\\dots$ \\\\\n",
       "\t15 & rpoBeU2051 & 0 & 0 & 0 & 0 & 0.520619 & 0.809112 & $\\dots$ \\\\\n",
       "\t16 & rpoBeU131 & 0 & 0 & 0 & 0 & 0.529506 & 0.658248 & $\\dots$ \\\\\n",
       "\t17 & rpoBeC127 & 0 & 0 & 0 & 1 & 0.362041 & 0.334776 & $\\dots$ \\\\\n",
       "\t18 & rpoBeU125 & 0 & 0 & 0 & 0 & 0.381919 & 0.612378 & $\\dots$ \\\\\n",
       "\t19 & petNeU2 & 0 & 1 & 0 & 0 & 0.926148 & 0.869403 & $\\dots$ \\\\\n",
       "\t20 & pafIeC166 & 0 & 0 & 0 & 1 & 0.498127 & 0.413148 & $\\dots$ \\\\\n",
       "\t21 & pafIeU29 & 0 & 0 & 0 & 0 & 0.681818 & 0.809732 & $\\dots$ \\\\\n",
       "\t22 & ndhKeU8 & 0 & 0 & 0 & 0 & 0.58371 & 0.809034 & $\\dots$ \\\\\n",
       "\t23 & ndhCeU328 & 0 & 0 & 0 & 0 & 0.667243 & 0.894772 & $\\dots$ \\\\\n",
       "\t24 & ndhCeU323 & 0 & 0 & 0 & 0 & 0.848009 & 0.970071 & $\\dots$ \\\\\n",
       "\t$\\dots$ & $\\dots$ & $\\dots$ & $\\dots$ & $\\dots$ & $\\dots$ & $\\dots$ & $\\dots$ &  \\\\\n",
       "\\end{tabular}\n"
      ],
      "text/plain": [
       "\u001b[1m959×10 DataFrame\u001b[0m\n",
       "\u001b[1m Row \u001b[0m│\u001b[1m uid         \u001b[0m\u001b[1m synonymous \u001b[0m\u001b[1m creates_start \u001b[0m\u001b[1m creates_stop \u001b[0m\u001b[1m removes_stop \u001b[0m\u001b[1m af \u001b[0m ⋯\n",
       "     │\u001b[90m String31    \u001b[0m\u001b[90m Bool       \u001b[0m\u001b[90m Bool          \u001b[0m\u001b[90m Bool         \u001b[0m\u001b[90m Bool         \u001b[0m\u001b[90m Flo\u001b[0m ⋯\n",
       "─────┼──────────────────────────────────────────────────────────────────────────\n",
       "   1 │ chlBeC250         false          false         false          true      ⋯\n",
       "   2 │ atpAeC103         false          false         false          true\n",
       "   3 │ atpIeU542         false          false         false         false\n",
       "   4 │ atpIeU428         false          false         false         false\n",
       "   5 │ atpIeC70          false          false         false          true      ⋯\n",
       "   6 │ rps2eC517         false          false         false          true\n",
       "   7 │ rps2eC430         false          false         false          true\n",
       "   8 │ rps2eU2           false           true         false         false\n",
       "  ⋮  │      ⋮           ⋮             ⋮             ⋮             ⋮            ⋱\n",
       " 953 │ ndhBeU1235        false          false         false         false \u001b[90m mis\u001b[0m ⋯\n",
       " 954 │ ndhBeU1181        false          false         false         false \u001b[90m mis\u001b[0m\n",
       " 955 │ ndhBeU1161         true          false         false         false \u001b[90m mis\u001b[0m\n",
       " 956 │ ndhBeU1051        false          false         false         false \u001b[90m mis\u001b[0m\n",
       " 957 │ ndhBeU1021        false          false         false         false \u001b[90m mis\u001b[0m ⋯\n",
       " 958 │ ndhBeU779         false          false         false         false \u001b[90m mis\u001b[0m\n",
       " 959 │ ycf2eU2           false           true         false         false \u001b[90m mis\u001b[0m\n",
       "\u001b[36m                                                  5 columns and 944 rows omitted\u001b[0m"
      ]
     },
     "metadata": {},
     "output_type": "display_data"
    }
   ],
   "source": [
    "mergeddf = select(dfs[\"af\"], [:uid,:synonymous,:creates_start,:creates_stop,:removes_stop,:proportion_edited])\n",
    "rename!(mergeddf, [:uid,:synonymous,:creates_start,:creates_stop,:removes_stop,:af])\n",
    "dropmissing!(mergeddf)\n",
    "println(nrow(mergeddf))\n",
    "for s in species\n",
    "    println(s)\n",
    "    s == \"af\" && continue\n",
    "    newsites = select(dfs[s], [:uid,:synonymous,:creates_start,:creates_stop,:removes_stop,:proportion_edited])\n",
    "    dropmissing!(newsites)\n",
    "    rename!(newsites, Dict(:uid => \"uid\", :synonymous => \"synonymous_s\",:creates_start => \"creates_start_s\",:creates_stop => \"creates_stop_s\",:removes_stop => \"removes_stop_s\",:proportion_edited => s))\n",
    "    mergeddf = outerjoin(mergeddf, newsites, on = :uid)\n",
    "    println(nrow(mergeddf))\n",
    "    mergeddf.synonymous .= coalesce.(mergeddf.synonymous, true) .&& coalesce.(mergeddf.synonymous_s, true)\n",
    "    mergeddf.creates_start .= coalesce.(mergeddf.creates_start, false) .|| coalesce.(mergeddf.creates_start_s, false)\n",
    "    mergeddf.creates_stop .= coalesce.(mergeddf.creates_stop,false) .|| coalesce.(mergeddf.creates_stop_s,false)\n",
    "    mergeddf.removes_stop .= coalesce.(mergeddf.removes_stop,false) .|| coalesce.(mergeddf.removes_stop_s,false)\n",
    "    select!(mergeddf, Not([:synonymous_s, :creates_start_s, :creates_stop_s, :removes_stop_s]))\n",
    "end\n",
    "mergeddf"
   ]
  },
  {
   "cell_type": "code",
   "execution_count": null,
   "metadata": {},
   "outputs": [
    {
     "data": {
      "text/plain": [
       "\"data/cp/edit_sites/all_cp_sites.tsv\""
      ]
     },
     "metadata": {},
     "output_type": "display_data"
    }
   ],
   "source": [
    "CSV.write(\"../data/$organelle/edit_sites/all_$organelle\" * \"_sites.tsv\", mergeddf, delim=\"\\t\")"
   ]
  },
  {
   "cell_type": "code",
   "execution_count": null,
   "metadata": {},
   "outputs": [
    {
     "data": {
      "text/plain": [
       "Dict{String, DataFrame} with 5 entries:\n",
       "  \"ar\" => \u001b[1m2148×22 DataFrame\u001b[0m\u001b[0m…\n",
       "  \"ap\" => \u001b[1m2165×22 DataFrame\u001b[0m\u001b[0m…\n",
       "  \"mm\" => \u001b[1m1790×22 DataFrame\u001b[0m\u001b[0m…\n",
       "  \"af\" => \u001b[1m2185×22 DataFrame\u001b[0m\u001b[0m…\n",
       "  \"sm\" => \u001b[1m2155×22 DataFrame\u001b[0m\u001b[0m…"
      ]
     },
     "metadata": {},
     "output_type": "display_data"
    }
   ],
   "source": [
    "organelle = \"mt\"\n",
    "dfs = Dict{String, DataFrame}()\n",
    "for s in species\n",
    "    dfs[s] = CSV.File(\"../data/$organelle/edit_sites/$s\" * \"_$organelle\" * \"_editing_events.tsv\") |> DataFrame\n",
    "    dfs[s].uid = uid.(dfs[s].ref_id)\n",
    "end\n",
    "dfs"
   ]
  },
  {
   "cell_type": "code",
   "execution_count": 14,
   "metadata": {},
   "outputs": [
    {
     "name": "stdout",
     "output_type": "stream",
     "text": [
      "2140\n",
      "af\n",
      "ar\n",
      "2192\n",
      "ap\n",
      "2271\n",
      "sm\n",
      "2388\n",
      "mm\n",
      "2820\n"
     ]
    },
    {
     "data": {
      "text/html": [
       "<div><div style = \"float: left;\"><span>2820×10 DataFrame</span></div><div style = \"float: right;\"><span style = \"font-style: italic;\">2795 rows omitted</span></div><div style = \"clear: both;\"></div></div><div class = \"data-frame\" style = \"overflow-x: scroll;\"><table class = \"data-frame\" style = \"margin-bottom: 6px;\"><thead><tr class = \"header\"><th class = \"rowNumber\" style = \"font-weight: bold; text-align: right;\">Row</th><th style = \"text-align: left;\">uid</th><th style = \"text-align: left;\">synonymous</th><th style = \"text-align: left;\">creates_start</th><th style = \"text-align: left;\">creates_stop</th><th style = \"text-align: left;\">removes_stop</th><th style = \"text-align: left;\">af</th><th style = \"text-align: left;\">ar</th><th style = \"text-align: left;\">ap</th><th style = \"text-align: left;\">sm</th><th style = \"text-align: left;\">mm</th></tr><tr class = \"subheader headerLastRow\"><th class = \"rowNumber\" style = \"font-weight: bold; text-align: right;\"></th><th title = \"String31\" style = \"text-align: left;\">String31</th><th title = \"Bool\" style = \"text-align: left;\">Bool</th><th title = \"Bool\" style = \"text-align: left;\">Bool</th><th title = \"Bool\" style = \"text-align: left;\">Bool</th><th title = \"Bool\" style = \"text-align: left;\">Bool</th><th title = \"Union{Missing, Float64}\" style = \"text-align: left;\">Float64?</th><th title = \"Union{Missing, Float64}\" style = \"text-align: left;\">Float64?</th><th title = \"Union{Missing, Float64}\" style = \"text-align: left;\">Float64?</th><th title = \"Union{Missing, Float64}\" style = \"text-align: left;\">Float64?</th><th title = \"Union{Missing, Float64}\" style = \"text-align: left;\">Float64?</th></tr></thead><tbody><tr><td class = \"rowNumber\" style = \"font-weight: bold; text-align: right;\">1</td><td style = \"text-align: left;\">nad1eU2</td><td style = \"text-align: right;\">false</td><td style = \"text-align: right;\">true</td><td style = \"text-align: right;\">false</td><td style = \"text-align: right;\">false</td><td style = \"text-align: right;\">0.783477</td><td style = \"text-align: right;\">0.789587</td><td style = \"text-align: right;\">0.979823</td><td style = \"text-align: right;\">0.707998</td><td style = \"text-align: right;\">0.673296</td></tr><tr><td class = \"rowNumber\" style = \"font-weight: bold; text-align: right;\">2</td><td style = \"text-align: left;\">nad1eU48</td><td style = \"text-align: right;\">true</td><td style = \"text-align: right;\">false</td><td style = \"text-align: right;\">false</td><td style = \"text-align: right;\">false</td><td style = \"text-align: right;\">0.964773</td><td style = \"text-align: right;\">0.947472</td><td style = \"text-align: right;\">0.984967</td><td style = \"text-align: right;\">0.918747</td><td style = \"text-align: right;\">0.768791</td></tr><tr><td class = \"rowNumber\" style = \"font-weight: bold; text-align: right;\">3</td><td style = \"text-align: left;\">nad1eC52</td><td style = \"text-align: right;\">false</td><td style = \"text-align: right;\">false</td><td style = \"text-align: right;\">false</td><td style = \"text-align: right;\">false</td><td style = \"text-align: right;\">0.914793</td><td style = \"text-align: right;\">0.981148</td><td style = \"text-align: right;\">0.982638</td><td style = \"text-align: right;\">0.949271</td><td style = \"text-align: right;\">0.958699</td></tr><tr><td class = \"rowNumber\" style = \"font-weight: bold; text-align: right;\">4</td><td style = \"text-align: left;\">nad1eU62</td><td style = \"text-align: right;\">false</td><td style = \"text-align: right;\">false</td><td style = \"text-align: right;\">false</td><td style = \"text-align: right;\">false</td><td style = \"text-align: right;\">0.850588</td><td style = \"text-align: right;\">0.900706</td><td style = \"text-align: right;\">0.968411</td><td style = \"text-align: right;\">0.912445</td><td style = \"text-align: right;\">0.972368</td></tr><tr><td class = \"rowNumber\" style = \"font-weight: bold; text-align: right;\">5</td><td style = \"text-align: left;\">nad1eU77</td><td style = \"text-align: right;\">false</td><td style = \"text-align: right;\">false</td><td style = \"text-align: right;\">false</td><td style = \"text-align: right;\">false</td><td style = \"text-align: right;\">0.983301</td><td style = \"text-align: right;\">0.987214</td><td style = \"text-align: right;\">0.992654</td><td style = \"text-align: right;\">0.974023</td><td style = \"text-align: right;\">0.963365</td></tr><tr><td class = \"rowNumber\" style = \"font-weight: bold; text-align: right;\">6</td><td style = \"text-align: left;\">nad1eU83</td><td style = \"text-align: right;\">false</td><td style = \"text-align: right;\">false</td><td style = \"text-align: right;\">false</td><td style = \"text-align: right;\">false</td><td style = \"text-align: right;\">0.961727</td><td style = \"text-align: right;\">0.983077</td><td style = \"text-align: right;\">0.990226</td><td style = \"text-align: right;\">0.96946</td><td style = \"text-align: right;\">0.961838</td></tr><tr><td class = \"rowNumber\" style = \"font-weight: bold; text-align: right;\">7</td><td style = \"text-align: left;\">nad1eU108</td><td style = \"text-align: right;\">true</td><td style = \"text-align: right;\">false</td><td style = \"text-align: right;\">false</td><td style = \"text-align: right;\">false</td><td style = \"text-align: right;\">0.848101</td><td style = \"text-align: right;\">0.952073</td><td style = \"text-align: right;\">0.924956</td><td style = \"text-align: right;\">0.154754</td><td style = \"text-align: right;\">0.963846</td></tr><tr><td class = \"rowNumber\" style = \"font-weight: bold; text-align: right;\">8</td><td style = \"text-align: left;\">nad1eC112</td><td style = \"text-align: right;\">false</td><td style = \"text-align: right;\">false</td><td style = \"text-align: right;\">false</td><td style = \"text-align: right;\">true</td><td style = \"text-align: right;\">0.907484</td><td style = \"text-align: right;\">0.955455</td><td style = \"text-align: right;\">0.942531</td><td style = \"text-align: right;\">0.935439</td><td style = \"text-align: right;\">0.922621</td></tr><tr><td class = \"rowNumber\" style = \"font-weight: bold; text-align: right;\">9</td><td style = \"text-align: left;\">nad1eC128</td><td style = \"text-align: right;\">false</td><td style = \"text-align: right;\">false</td><td style = \"text-align: right;\">false</td><td style = \"text-align: right;\">false</td><td style = \"text-align: right;\">0.908873</td><td style = \"text-align: right;\">0.954293</td><td style = \"text-align: right;\">0.946806</td><td style = \"text-align: right;\">0.871972</td><td style = \"text-align: right;\">0.922306</td></tr><tr><td class = \"rowNumber\" style = \"font-weight: bold; text-align: right;\">10</td><td style = \"text-align: left;\">nad1eU143</td><td style = \"text-align: right;\">false</td><td style = \"text-align: right;\">false</td><td style = \"text-align: right;\">false</td><td style = \"text-align: right;\">false</td><td style = \"text-align: right;\">0.845098</td><td style = \"text-align: right;\">0.942611</td><td style = \"text-align: right;\">0.922639</td><td style = \"text-align: right;\">0.851991</td><td style = \"text-align: right;\">0.901762</td></tr><tr><td class = \"rowNumber\" style = \"font-weight: bold; text-align: right;\">11</td><td style = \"text-align: left;\">nad1eU146</td><td style = \"text-align: right;\">false</td><td style = \"text-align: right;\">false</td><td style = \"text-align: right;\">false</td><td style = \"text-align: right;\">false</td><td style = \"text-align: right;\">0.836852</td><td style = \"text-align: right;\">0.967927</td><td style = \"text-align: right;\">0.973431</td><td style = \"text-align: right;\">0.943978</td><td style = \"text-align: right;\">0.897545</td></tr><tr><td class = \"rowNumber\" style = \"font-weight: bold; text-align: right;\">12</td><td style = \"text-align: left;\">nad1eC157</td><td style = \"text-align: right;\">false</td><td style = \"text-align: right;\">false</td><td style = \"text-align: right;\">false</td><td style = \"text-align: right;\">true</td><td style = \"text-align: right;\">0.655311</td><td style = \"text-align: right;\">0.880111</td><td style = \"text-align: right;\">0.83829</td><td style = \"text-align: right;\">0.771079</td><td style = \"text-align: right;\">0.811094</td></tr><tr><td class = \"rowNumber\" style = \"font-weight: bold; text-align: right;\">13</td><td style = \"text-align: left;\">nad1eU182</td><td style = \"text-align: right;\">false</td><td style = \"text-align: right;\">false</td><td style = \"text-align: right;\">false</td><td style = \"text-align: right;\">false</td><td style = \"text-align: right;\">0.821727</td><td style = \"text-align: right;\">0.962963</td><td style = \"text-align: right;\">0.86985</td><td style = \"text-align: right;\">0.911018</td><td style = \"text-align: right;\">0.961833</td></tr><tr><td style = \"text-align: right;\">&vellip;</td><td style = \"text-align: right;\">&vellip;</td><td style = \"text-align: right;\">&vellip;</td><td style = \"text-align: right;\">&vellip;</td><td style = \"text-align: right;\">&vellip;</td><td style = \"text-align: right;\">&vellip;</td><td style = \"text-align: right;\">&vellip;</td><td style = \"text-align: right;\">&vellip;</td><td style = \"text-align: right;\">&vellip;</td><td style = \"text-align: right;\">&vellip;</td><td style = \"text-align: right;\">&vellip;</td></tr><tr><td class = \"rowNumber\" style = \"font-weight: bold; text-align: right;\">2809</td><td style = \"text-align: left;\">mat-LeptoeU1167</td><td style = \"text-align: right;\">true</td><td style = \"text-align: right;\">false</td><td style = \"text-align: right;\">false</td><td style = \"text-align: right;\">false</td><td style = \"font-style: italic; text-align: right;\">missing</td><td style = \"font-style: italic; text-align: right;\">missing</td><td style = \"font-style: italic; text-align: right;\">missing</td><td style = \"font-style: italic; text-align: right;\">missing</td><td style = \"text-align: right;\">0.102273</td></tr><tr><td class = \"rowNumber\" style = \"font-weight: bold; text-align: right;\">2810</td><td style = \"text-align: left;\">mat-LeptoeU1393</td><td style = \"text-align: right;\">false</td><td style = \"text-align: right;\">false</td><td style = \"text-align: right;\">false</td><td style = \"text-align: right;\">false</td><td style = \"font-style: italic; text-align: right;\">missing</td><td style = \"font-style: italic; text-align: right;\">missing</td><td style = \"font-style: italic; text-align: right;\">missing</td><td style = \"font-style: italic; text-align: right;\">missing</td><td style = \"text-align: right;\">0.113095</td></tr><tr><td class = \"rowNumber\" style = \"font-weight: bold; text-align: right;\">2811</td><td style = \"text-align: left;\">mat-LeptoeU1583</td><td style = \"text-align: right;\">false</td><td style = \"text-align: right;\">false</td><td style = \"text-align: right;\">false</td><td style = \"text-align: right;\">false</td><td style = \"font-style: italic; text-align: right;\">missing</td><td style = \"font-style: italic; text-align: right;\">missing</td><td style = \"font-style: italic; text-align: right;\">missing</td><td style = \"font-style: italic; text-align: right;\">missing</td><td style = \"text-align: right;\">0.78308</td></tr><tr><td class = \"rowNumber\" style = \"font-weight: bold; text-align: right;\">2812</td><td style = \"text-align: left;\">mat-LeptoeU1616</td><td style = \"text-align: right;\">false</td><td style = \"text-align: right;\">false</td><td style = \"text-align: right;\">false</td><td style = \"text-align: right;\">false</td><td style = \"font-style: italic; text-align: right;\">missing</td><td style = \"font-style: italic; text-align: right;\">missing</td><td style = \"font-style: italic; text-align: right;\">missing</td><td style = \"font-style: italic; text-align: right;\">missing</td><td style = \"text-align: right;\">0.675</td></tr><tr><td class = \"rowNumber\" style = \"font-weight: bold; text-align: right;\">2813</td><td style = \"text-align: left;\">mat-LeptoeU1631</td><td style = \"text-align: right;\">false</td><td style = \"text-align: right;\">false</td><td style = \"text-align: right;\">false</td><td style = \"text-align: right;\">false</td><td style = \"font-style: italic; text-align: right;\">missing</td><td style = \"font-style: italic; text-align: right;\">missing</td><td style = \"font-style: italic; text-align: right;\">missing</td><td style = \"font-style: italic; text-align: right;\">missing</td><td style = \"text-align: right;\">0.084991</td></tr><tr><td class = \"rowNumber\" style = \"font-weight: bold; text-align: right;\">2814</td><td style = \"text-align: left;\">mat-LeptoeC1636</td><td style = \"text-align: right;\">false</td><td style = \"text-align: right;\">false</td><td style = \"text-align: right;\">false</td><td style = \"text-align: right;\">false</td><td style = \"font-style: italic; text-align: right;\">missing</td><td style = \"font-style: italic; text-align: right;\">missing</td><td style = \"font-style: italic; text-align: right;\">missing</td><td style = \"font-style: italic; text-align: right;\">missing</td><td style = \"text-align: right;\">0.122486</td></tr><tr><td class = \"rowNumber\" style = \"font-weight: bold; text-align: right;\">2815</td><td style = \"text-align: left;\">mat-LeptoeU1676</td><td style = \"text-align: right;\">false</td><td style = \"text-align: right;\">false</td><td style = \"text-align: right;\">false</td><td style = \"text-align: right;\">false</td><td style = \"font-style: italic; text-align: right;\">missing</td><td style = \"font-style: italic; text-align: right;\">missing</td><td style = \"font-style: italic; text-align: right;\">missing</td><td style = \"font-style: italic; text-align: right;\">missing</td><td style = \"text-align: right;\">0.84965</td></tr><tr><td class = \"rowNumber\" style = \"font-weight: bold; text-align: right;\">2816</td><td style = \"text-align: left;\">mat-LeptoeU1779</td><td style = \"text-align: right;\">true</td><td style = \"text-align: right;\">false</td><td style = \"text-align: right;\">false</td><td style = \"text-align: right;\">false</td><td style = \"font-style: italic; text-align: right;\">missing</td><td style = \"font-style: italic; text-align: right;\">missing</td><td style = \"font-style: italic; text-align: right;\">missing</td><td style = \"font-style: italic; text-align: right;\">missing</td><td style = \"text-align: right;\">0.127072</td></tr><tr><td class = \"rowNumber\" style = \"font-weight: bold; text-align: right;\">2817</td><td style = \"text-align: left;\">mat-LeptoeC1783</td><td style = \"text-align: right;\">false</td><td style = \"text-align: right;\">false</td><td style = \"text-align: right;\">false</td><td style = \"text-align: right;\">true</td><td style = \"font-style: italic; text-align: right;\">missing</td><td style = \"font-style: italic; text-align: right;\">missing</td><td style = \"font-style: italic; text-align: right;\">missing</td><td style = \"font-style: italic; text-align: right;\">missing</td><td style = \"text-align: right;\">0.801105</td></tr><tr><td class = \"rowNumber\" style = \"font-weight: bold; text-align: right;\">2818</td><td style = \"text-align: left;\">mat-LeptoeC1795</td><td style = \"text-align: right;\">false</td><td style = \"text-align: right;\">false</td><td style = \"text-align: right;\">false</td><td style = \"text-align: right;\">true</td><td style = \"font-style: italic; text-align: right;\">missing</td><td style = \"font-style: italic; text-align: right;\">missing</td><td style = \"font-style: italic; text-align: right;\">missing</td><td style = \"font-style: italic; text-align: right;\">missing</td><td style = \"text-align: right;\">0.829044</td></tr><tr><td class = \"rowNumber\" style = \"font-weight: bold; text-align: right;\">2819</td><td style = \"text-align: left;\">mat-LeptoeU1803</td><td style = \"text-align: right;\">true</td><td style = \"text-align: right;\">false</td><td style = \"text-align: right;\">false</td><td style = \"text-align: right;\">false</td><td style = \"font-style: italic; text-align: right;\">missing</td><td style = \"font-style: italic; text-align: right;\">missing</td><td style = \"font-style: italic; text-align: right;\">missing</td><td style = \"font-style: italic; text-align: right;\">missing</td><td style = \"text-align: right;\">0.403478</td></tr><tr><td class = \"rowNumber\" style = \"font-weight: bold; text-align: right;\">2820</td><td style = \"text-align: left;\">mat-LeptoeU2020</td><td style = \"text-align: right;\">false</td><td style = \"text-align: right;\">false</td><td style = \"text-align: right;\">false</td><td style = \"text-align: right;\">false</td><td style = \"font-style: italic; text-align: right;\">missing</td><td style = \"font-style: italic; text-align: right;\">missing</td><td style = \"font-style: italic; text-align: right;\">missing</td><td style = \"font-style: italic; text-align: right;\">missing</td><td style = \"text-align: right;\">0.709052</td></tr></tbody></table></div>"
      ],
      "text/latex": [
       "\\begin{tabular}{r|cccccccc}\n",
       "\t& uid & synonymous & creates\\_start & creates\\_stop & removes\\_stop & af & ar & \\\\\n",
       "\t\\hline\n",
       "\t& String31 & Bool & Bool & Bool & Bool & Float64? & Float64? & \\\\\n",
       "\t\\hline\n",
       "\t1 & nad1eU2 & 0 & 1 & 0 & 0 & 0.783477 & 0.789587 & $\\dots$ \\\\\n",
       "\t2 & nad1eU48 & 1 & 0 & 0 & 0 & 0.964773 & 0.947472 & $\\dots$ \\\\\n",
       "\t3 & nad1eC52 & 0 & 0 & 0 & 0 & 0.914793 & 0.981148 & $\\dots$ \\\\\n",
       "\t4 & nad1eU62 & 0 & 0 & 0 & 0 & 0.850588 & 0.900706 & $\\dots$ \\\\\n",
       "\t5 & nad1eU77 & 0 & 0 & 0 & 0 & 0.983301 & 0.987214 & $\\dots$ \\\\\n",
       "\t6 & nad1eU83 & 0 & 0 & 0 & 0 & 0.961727 & 0.983077 & $\\dots$ \\\\\n",
       "\t7 & nad1eU108 & 1 & 0 & 0 & 0 & 0.848101 & 0.952073 & $\\dots$ \\\\\n",
       "\t8 & nad1eC112 & 0 & 0 & 0 & 1 & 0.907484 & 0.955455 & $\\dots$ \\\\\n",
       "\t9 & nad1eC128 & 0 & 0 & 0 & 0 & 0.908873 & 0.954293 & $\\dots$ \\\\\n",
       "\t10 & nad1eU143 & 0 & 0 & 0 & 0 & 0.845098 & 0.942611 & $\\dots$ \\\\\n",
       "\t11 & nad1eU146 & 0 & 0 & 0 & 0 & 0.836852 & 0.967927 & $\\dots$ \\\\\n",
       "\t12 & nad1eC157 & 0 & 0 & 0 & 1 & 0.655311 & 0.880111 & $\\dots$ \\\\\n",
       "\t13 & nad1eU182 & 0 & 0 & 0 & 0 & 0.821727 & 0.962963 & $\\dots$ \\\\\n",
       "\t14 & nad1eU202 & 0 & 0 & 0 & 0 & 0.732203 & 0.947869 & $\\dots$ \\\\\n",
       "\t15 & nad1eU203 & 0 & 0 & 0 & 0 & 0.694915 & 0.937881 & $\\dots$ \\\\\n",
       "\t16 & nad1eU208 & 0 & 0 & 0 & 0 & 0.690476 & 0.951644 & $\\dots$ \\\\\n",
       "\t17 & nad1eU230 & 0 & 0 & 0 & 0 & 0.516667 & 0.934968 & $\\dots$ \\\\\n",
       "\t18 & nad1eC242 & 0 & 0 & 0 & 0 & 0.42 & 0.898703 & $\\dots$ \\\\\n",
       "\t19 & nad1eU257 & 0 & 0 & 0 & 0 & 0.728889 & 0.966495 & $\\dots$ \\\\\n",
       "\t20 & nad1eU274 & 0 & 0 & 0 & 0 & 0.21978 & 0.764606 & $\\dots$ \\\\\n",
       "\t21 & nad1eU284 & 0 & 0 & 0 & 0 & 0.179487 & 0.803296 & $\\dots$ \\\\\n",
       "\t22 & nad1eU290 & 0 & 0 & 0 & 0 & 0.5 & 0.949126 & $\\dots$ \\\\\n",
       "\t23 & nad1eU311 & 0 & 0 & 0 & 0 & 0.587629 & 0.969257 & $\\dots$ \\\\\n",
       "\t24 & nad1eU317 & 0 & 0 & 0 & 0 & 0.6 & 0.938158 & $\\dots$ \\\\\n",
       "\t$\\dots$ & $\\dots$ & $\\dots$ & $\\dots$ & $\\dots$ & $\\dots$ & $\\dots$ & $\\dots$ &  \\\\\n",
       "\\end{tabular}\n"
      ],
      "text/plain": [
       "\u001b[1m2820×10 DataFrame\u001b[0m\n",
       "\u001b[1m  Row \u001b[0m│\u001b[1m uid             \u001b[0m\u001b[1m synonymous \u001b[0m\u001b[1m creates_start \u001b[0m\u001b[1m creates_stop \u001b[0m\u001b[1m removes_stop\u001b[0m ⋯\n",
       "      │\u001b[90m String31        \u001b[0m\u001b[90m Bool       \u001b[0m\u001b[90m Bool          \u001b[0m\u001b[90m Bool         \u001b[0m\u001b[90m Bool        \u001b[0m ⋯\n",
       "──────┼─────────────────────────────────────────────────────────────────────────\n",
       "    1 │ nad1eU2               false           true         false         false ⋯\n",
       "    2 │ nad1eU48               true          false         false         false\n",
       "    3 │ nad1eC52              false          false         false         false\n",
       "    4 │ nad1eU62              false          false         false         false\n",
       "    5 │ nad1eU77              false          false         false         false ⋯\n",
       "    6 │ nad1eU83              false          false         false         false\n",
       "    7 │ nad1eU108              true          false         false         false\n",
       "    8 │ nad1eC112             false          false         false          true\n",
       "  ⋮   │        ⋮             ⋮             ⋮             ⋮             ⋮       ⋱\n",
       " 2814 │ mat-LeptoeC1636       false          false         false         false ⋯\n",
       " 2815 │ mat-LeptoeU1676       false          false         false         false\n",
       " 2816 │ mat-LeptoeU1779        true          false         false         false\n",
       " 2817 │ mat-LeptoeC1783       false          false         false          true\n",
       " 2818 │ mat-LeptoeC1795       false          false         false          true ⋯\n",
       " 2819 │ mat-LeptoeU1803        true          false         false         false\n",
       " 2820 │ mat-LeptoeU2020       false          false         false         false\n",
       "\u001b[36m                                                 5 columns and 2805 rows omitted\u001b[0m"
      ]
     },
     "metadata": {},
     "output_type": "display_data"
    }
   ],
   "source": [
    "mergeddf = select(dfs[\"af\"], [:uid,:synonymous,:creates_start,:creates_stop,:removes_stop,:proportion_edited])\n",
    "rename!(mergeddf, [:uid,:synonymous,:creates_start,:creates_stop,:removes_stop,:af])\n",
    "dropmissing!(mergeddf)\n",
    "println(nrow(mergeddf))\n",
    "for s in species\n",
    "    println(s)\n",
    "    s == \"af\" && continue\n",
    "    newsites = select(dfs[s], [:uid,:synonymous,:creates_start,:creates_stop,:removes_stop,:proportion_edited])\n",
    "    dropmissing!(newsites)\n",
    "    rename!(newsites, Dict(:uid => \"uid\", :synonymous => \"synonymous_s\",:creates_start => \"creates_start_s\",:creates_stop => \"creates_stop_s\",:removes_stop => \"removes_stop_s\",:proportion_edited => s))\n",
    "    mergeddf = outerjoin(mergeddf, newsites, on = :uid)\n",
    "    println(nrow(mergeddf))\n",
    "    mergeddf.synonymous .= coalesce.(mergeddf.synonymous, true) .&& coalesce.(mergeddf.synonymous_s, true)\n",
    "    mergeddf.creates_start .= coalesce.(mergeddf.creates_start, false) .|| coalesce.(mergeddf.creates_start_s, false)\n",
    "    mergeddf.creates_stop .= coalesce.(mergeddf.creates_stop,false) .|| coalesce.(mergeddf.creates_stop_s,false)\n",
    "    mergeddf.removes_stop .= coalesce.(mergeddf.removes_stop,false) .|| coalesce.(mergeddf.removes_stop_s,false)\n",
    "    select!(mergeddf, Not([:synonymous_s, :creates_start_s, :creates_stop_s, :removes_stop_s]))\n",
    "end\n",
    "mergeddf"
   ]
  },
  {
   "cell_type": "code",
   "execution_count": null,
   "metadata": {},
   "outputs": [
    {
     "data": {
      "text/plain": [
       "\"data/mt/edit_sites/all_mt_sites.tsv\""
      ]
     },
     "metadata": {},
     "output_type": "display_data"
    }
   ],
   "source": [
    "CSV.write(\"../data/$organelle/edit_sites/all_$organelle\" * \"_sites.tsv\", mergeddf, delim=\"\\t\")"
   ]
  }
 ],
 "metadata": {
  "kernelspec": {
   "display_name": "Julia 1.11.5",
   "language": "julia",
   "name": "julia-1.11"
  },
  "language_info": {
   "file_extension": ".jl",
   "mimetype": "application/julia",
   "name": "julia",
   "version": "1.11.5"
  }
 },
 "nbformat": 4,
 "nbformat_minor": 2
}
