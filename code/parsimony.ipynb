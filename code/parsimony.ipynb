{
 "cells": [
  {
   "cell_type": "code",
   "execution_count": 22,
   "metadata": {},
   "outputs": [],
   "source": [
    "using CSV, DataFrames, Plots, Plots.Measures, StatsBase"
   ]
  },
  {
   "cell_type": "code",
   "execution_count": 23,
   "metadata": {},
   "outputs": [
    {
     "data": {
      "text/plain": [
       "bitperm (generic function with 1 method)"
      ]
     },
     "metadata": {},
     "output_type": "display_data"
    }
   ],
   "source": [
    "# Trajectories are based on this tree topology, branches indexed 1-8 from left to right:\n",
    "#   Af Ar Ap Sm Mm\n",
    "#   |__|  |  |  |\n",
    "#     |___|  |  |\n",
    "#       |____|  |\n",
    "#          |____|\n",
    "#             |\n",
    "\n",
    "branch_lengths = [3.1,3.1,47.6,50.7,38.3,89.0,64.0,153.0,0.0]\n",
    "\n",
    "function trajectory2pattern(trajectory::BitVector)\n",
    "    pattern = fill(trajectory[9], 5)\n",
    "    pattern[5] = pattern[5] ⊻ trajectory[8]\n",
    "    pattern[4] = pattern[4] ⊻ trajectory[7] ⊻ trajectory[6]\n",
    "    pattern[3] = pattern[3] ⊻ trajectory[7] ⊻ trajectory[5] ⊻ trajectory[4]\n",
    "    pattern[2] = pattern[2] ⊻ trajectory[7] ⊻ trajectory[5] ⊻ trajectory[3] ⊻ trajectory[2]\n",
    "    pattern[1] = pattern[1] ⊻ trajectory[7] ⊻ trajectory[5] ⊻ trajectory[3] ⊻ trajectory[1]\n",
    "    pattern\n",
    "end\n",
    "\n",
    "function gains_and_losses(trajectory::BitVector)\n",
    "    gains = zeros(Int, 9)\n",
    "    losses = zeros(Int, 9)\n",
    "    #ancestral state\n",
    "    if trajectory[9]\n",
    "        gains[9] += 1\n",
    "    else\n",
    "        losses[9] += 1\n",
    "    end\n",
    "    #Mm\n",
    "    lca = trajectory[9] \n",
    "    if lca && trajectory[8]         #loss\n",
    "        losses[8] += 1\n",
    "    end\n",
    "    if lca && trajectory[7]     #loss\n",
    "        losses[7] += 1\n",
    "    end\n",
    "    if ~lca && trajectory[8]            #gain\n",
    "        gains[8] += 1\n",
    "    end\n",
    "    if ~lca && trajectory[7]             #gain\n",
    "        gains[7] += 1\n",
    "    end\n",
    "    #Sm\n",
    "    lca = trajectory[9] ⊻ trajectory[7]\n",
    "    if lca && trajectory[6]         #loss\n",
    "        losses[6] += 1\n",
    "    end\n",
    "    if lca && trajectory[5]     #loss\n",
    "        losses[5] += 1\n",
    "    end\n",
    "    if ~lca && trajectory[6]            #gain\n",
    "        gains[6] += 1\n",
    "    end\n",
    "    if ~lca && trajectory[5]             #gain\n",
    "        gains[5] += 1\n",
    "    end\n",
    "    #Ap\n",
    "    lca = trajectory[9] ⊻ trajectory[7] ⊻ trajectory[5]\n",
    "    if lca && trajectory[4]         #loss\n",
    "        losses[4] += 1\n",
    "    end\n",
    "    if lca && trajectory[3]     #loss\n",
    "        losses[3] += 1\n",
    "    end\n",
    "    if ~lca && trajectory[4]            #gain\n",
    "        gains[4] += 1\n",
    "    end\n",
    "    if ~lca && trajectory[3]            #gain\n",
    "        gains[3] += 1\n",
    "    end\n",
    "    #Ar/Af\n",
    "    lca = trajectory[9] ⊻ trajectory[7] ⊻ trajectory[5] ⊻ trajectory[3]\n",
    "    if lca && trajectory[2]         #loss\n",
    "        losses[2] += 1\n",
    "    end\n",
    "    if lca && trajectory[1]     #loss\n",
    "        losses[1] += 1\n",
    "    end\n",
    "    if ~lca && trajectory[2]            #gain\n",
    "        gains[2] += 1\n",
    "    end\n",
    "    if ~lca && trajectory[1]             #gain\n",
    "        gains[1] += 1\n",
    "    end\n",
    "    gains, losses\n",
    "end\n",
    "\n",
    "function extend(perms::Vector{BitVector})\n",
    "    newperms = Vector{BitVector}()\n",
    "    for perm in perms\n",
    "        push!(newperms, push!(copy(perm), 0))\n",
    "        push!(newperms, push!(perm, 1))\n",
    "    end\n",
    "    newperms\n",
    "end\n",
    "\n",
    "function bitperm(length::Int)\n",
    "    perms = Vector{BitVector}()\n",
    "    push!(perms, BitVector())\n",
    "    for n in 1:length\n",
    "        perms = extend(perms)\n",
    "    end\n",
    "    perms\n",
    "end"
   ]
  },
  {
   "cell_type": "code",
   "execution_count": 24,
   "metadata": {},
   "outputs": [
    {
     "data": {
      "text/html": [
       "<div><div style = \"float: left;\"><span>512×4 DataFrame</span></div><div style = \"float: right;\"><span style = \"font-style: italic;\">487 rows omitted</span></div><div style = \"clear: both;\"></div></div><div class = \"data-frame\" style = \"overflow-x: scroll;\"><table class = \"data-frame\" style = \"margin-bottom: 6px;\"><thead><tr class = \"header\"><th class = \"rowNumber\" style = \"font-weight: bold; text-align: right;\">Row</th><th style = \"text-align: left;\">trajectory</th><th style = \"text-align: left;\">pattern</th><th style = \"text-align: left;\">parsimony</th><th style = \"text-align: left;\">interval</th></tr><tr class = \"subheader headerLastRow\"><th class = \"rowNumber\" style = \"font-weight: bold; text-align: right;\"></th><th title = \"BitVector\" style = \"text-align: left;\">BitVector</th><th title = \"BitVector\" style = \"text-align: left;\">BitVector</th><th title = \"Int64\" style = \"text-align: left;\">Int64</th><th title = \"Float64\" style = \"text-align: left;\">Float64</th></tr></thead><tbody><tr><td class = \"rowNumber\" style = \"font-weight: bold; text-align: right;\">1</td><td style = \"text-align: left;\">Bool[0, 0, 0, 0, 0, 0, 0, 0, 0]</td><td style = \"text-align: left;\">Bool[0, 0, 0, 0, 0]</td><td style = \"text-align: right;\">0</td><td style = \"text-align: right;\">0.0</td></tr><tr><td class = \"rowNumber\" style = \"font-weight: bold; text-align: right;\">2</td><td style = \"text-align: left;\">Bool[0, 0, 0, 0, 0, 0, 0, 0, 1]</td><td style = \"text-align: left;\">Bool[1, 1, 1, 1, 1]</td><td style = \"text-align: right;\">0</td><td style = \"text-align: right;\">0.0</td></tr><tr><td class = \"rowNumber\" style = \"font-weight: bold; text-align: right;\">3</td><td style = \"text-align: left;\">Bool[0, 0, 0, 0, 0, 0, 0, 1, 0]</td><td style = \"text-align: left;\">Bool[0, 0, 0, 0, 1]</td><td style = \"text-align: right;\">1</td><td style = \"text-align: right;\">153.0</td></tr><tr><td class = \"rowNumber\" style = \"font-weight: bold; text-align: right;\">4</td><td style = \"text-align: left;\">Bool[0, 0, 0, 0, 0, 0, 0, 1, 1]</td><td style = \"text-align: left;\">Bool[1, 1, 1, 1, 0]</td><td style = \"text-align: right;\">1</td><td style = \"text-align: right;\">153.0</td></tr><tr><td class = \"rowNumber\" style = \"font-weight: bold; text-align: right;\">5</td><td style = \"text-align: left;\">Bool[0, 0, 0, 0, 0, 0, 1, 0, 0]</td><td style = \"text-align: left;\">Bool[1, 1, 1, 1, 0]</td><td style = \"text-align: right;\">1</td><td style = \"text-align: right;\">64.0</td></tr><tr><td class = \"rowNumber\" style = \"font-weight: bold; text-align: right;\">6</td><td style = \"text-align: left;\">Bool[0, 0, 0, 0, 0, 0, 1, 0, 1]</td><td style = \"text-align: left;\">Bool[0, 0, 0, 0, 1]</td><td style = \"text-align: right;\">1</td><td style = \"text-align: right;\">64.0</td></tr><tr><td class = \"rowNumber\" style = \"font-weight: bold; text-align: right;\">7</td><td style = \"text-align: left;\">Bool[0, 0, 0, 0, 0, 0, 1, 1, 0]</td><td style = \"text-align: left;\">Bool[1, 1, 1, 1, 1]</td><td style = \"text-align: right;\">2</td><td style = \"text-align: right;\">217.0</td></tr><tr><td class = \"rowNumber\" style = \"font-weight: bold; text-align: right;\">8</td><td style = \"text-align: left;\">Bool[0, 0, 0, 0, 0, 0, 1, 1, 1]</td><td style = \"text-align: left;\">Bool[0, 0, 0, 0, 0]</td><td style = \"text-align: right;\">2</td><td style = \"text-align: right;\">217.0</td></tr><tr><td class = \"rowNumber\" style = \"font-weight: bold; text-align: right;\">9</td><td style = \"text-align: left;\">Bool[0, 0, 0, 0, 0, 1, 0, 0, 0]</td><td style = \"text-align: left;\">Bool[0, 0, 0, 1, 0]</td><td style = \"text-align: right;\">1</td><td style = \"text-align: right;\">89.0</td></tr><tr><td class = \"rowNumber\" style = \"font-weight: bold; text-align: right;\">10</td><td style = \"text-align: left;\">Bool[0, 0, 0, 0, 0, 1, 0, 0, 1]</td><td style = \"text-align: left;\">Bool[1, 1, 1, 0, 1]</td><td style = \"text-align: right;\">1</td><td style = \"text-align: right;\">89.0</td></tr><tr><td class = \"rowNumber\" style = \"font-weight: bold; text-align: right;\">11</td><td style = \"text-align: left;\">Bool[0, 0, 0, 0, 0, 1, 0, 1, 0]</td><td style = \"text-align: left;\">Bool[0, 0, 0, 1, 1]</td><td style = \"text-align: right;\">2</td><td style = \"text-align: right;\">242.0</td></tr><tr><td class = \"rowNumber\" style = \"font-weight: bold; text-align: right;\">12</td><td style = \"text-align: left;\">Bool[0, 0, 0, 0, 0, 1, 0, 1, 1]</td><td style = \"text-align: left;\">Bool[1, 1, 1, 0, 0]</td><td style = \"text-align: right;\">2</td><td style = \"text-align: right;\">242.0</td></tr><tr><td class = \"rowNumber\" style = \"font-weight: bold; text-align: right;\">13</td><td style = \"text-align: left;\">Bool[0, 0, 0, 0, 0, 1, 1, 0, 0]</td><td style = \"text-align: left;\">Bool[1, 1, 1, 0, 0]</td><td style = \"text-align: right;\">2</td><td style = \"text-align: right;\">153.0</td></tr><tr><td style = \"text-align: right;\">&vellip;</td><td style = \"text-align: right;\">&vellip;</td><td style = \"text-align: right;\">&vellip;</td><td style = \"text-align: right;\">&vellip;</td><td style = \"text-align: right;\">&vellip;</td></tr><tr><td class = \"rowNumber\" style = \"font-weight: bold; text-align: right;\">501</td><td style = \"text-align: left;\">Bool[1, 1, 1, 1, 1, 0, 1, 0, 0]</td><td style = \"text-align: left;\">Bool[0, 0, 1, 1, 0]</td><td style = \"text-align: right;\">6</td><td style = \"text-align: right;\">206.8</td></tr><tr><td class = \"rowNumber\" style = \"font-weight: bold; text-align: right;\">502</td><td style = \"text-align: left;\">Bool[1, 1, 1, 1, 1, 0, 1, 0, 1]</td><td style = \"text-align: left;\">Bool[1, 1, 0, 0, 1]</td><td style = \"text-align: right;\">6</td><td style = \"text-align: right;\">206.8</td></tr><tr><td class = \"rowNumber\" style = \"font-weight: bold; text-align: right;\">503</td><td style = \"text-align: left;\">Bool[1, 1, 1, 1, 1, 0, 1, 1, 0]</td><td style = \"text-align: left;\">Bool[0, 0, 1, 1, 1]</td><td style = \"text-align: right;\">7</td><td style = \"text-align: right;\">359.8</td></tr><tr><td class = \"rowNumber\" style = \"font-weight: bold; text-align: right;\">504</td><td style = \"text-align: left;\">Bool[1, 1, 1, 1, 1, 0, 1, 1, 1]</td><td style = \"text-align: left;\">Bool[1, 1, 0, 0, 0]</td><td style = \"text-align: right;\">7</td><td style = \"text-align: right;\">359.8</td></tr><tr><td class = \"rowNumber\" style = \"font-weight: bold; text-align: right;\">505</td><td style = \"text-align: left;\">Bool[1, 1, 1, 1, 1, 1, 0, 0, 0]</td><td style = \"text-align: left;\">Bool[1, 1, 0, 1, 0]</td><td style = \"text-align: right;\">6</td><td style = \"text-align: right;\">231.8</td></tr><tr><td class = \"rowNumber\" style = \"font-weight: bold; text-align: right;\">506</td><td style = \"text-align: left;\">Bool[1, 1, 1, 1, 1, 1, 0, 0, 1]</td><td style = \"text-align: left;\">Bool[0, 0, 1, 0, 1]</td><td style = \"text-align: right;\">6</td><td style = \"text-align: right;\">231.8</td></tr><tr><td class = \"rowNumber\" style = \"font-weight: bold; text-align: right;\">507</td><td style = \"text-align: left;\">Bool[1, 1, 1, 1, 1, 1, 0, 1, 0]</td><td style = \"text-align: left;\">Bool[1, 1, 0, 1, 1]</td><td style = \"text-align: right;\">7</td><td style = \"text-align: right;\">384.8</td></tr><tr><td class = \"rowNumber\" style = \"font-weight: bold; text-align: right;\">508</td><td style = \"text-align: left;\">Bool[1, 1, 1, 1, 1, 1, 0, 1, 1]</td><td style = \"text-align: left;\">Bool[0, 0, 1, 0, 0]</td><td style = \"text-align: right;\">7</td><td style = \"text-align: right;\">384.8</td></tr><tr><td class = \"rowNumber\" style = \"font-weight: bold; text-align: right;\">509</td><td style = \"text-align: left;\">Bool[1, 1, 1, 1, 1, 1, 1, 0, 0]</td><td style = \"text-align: left;\">Bool[0, 0, 1, 0, 0]</td><td style = \"text-align: right;\">7</td><td style = \"text-align: right;\">295.8</td></tr><tr><td class = \"rowNumber\" style = \"font-weight: bold; text-align: right;\">510</td><td style = \"text-align: left;\">Bool[1, 1, 1, 1, 1, 1, 1, 0, 1]</td><td style = \"text-align: left;\">Bool[1, 1, 0, 1, 1]</td><td style = \"text-align: right;\">7</td><td style = \"text-align: right;\">295.8</td></tr><tr><td class = \"rowNumber\" style = \"font-weight: bold; text-align: right;\">511</td><td style = \"text-align: left;\">Bool[1, 1, 1, 1, 1, 1, 1, 1, 0]</td><td style = \"text-align: left;\">Bool[0, 0, 1, 0, 1]</td><td style = \"text-align: right;\">8</td><td style = \"text-align: right;\">448.8</td></tr><tr><td class = \"rowNumber\" style = \"font-weight: bold; text-align: right;\">512</td><td style = \"text-align: left;\">Bool[1, 1, 1, 1, 1, 1, 1, 1, 1]</td><td style = \"text-align: left;\">Bool[1, 1, 0, 1, 0]</td><td style = \"text-align: right;\">8</td><td style = \"text-align: right;\">448.8</td></tr></tbody></table></div>"
      ],
      "text/latex": [
       "\\begin{tabular}{r|cccc}\n",
       "\t& trajectory & pattern & parsimony & interval\\\\\n",
       "\t\\hline\n",
       "\t& BitVector & BitVector & Int64 & Float64\\\\\n",
       "\t\\hline\n",
       "\t1 & [0, 0, 0, 0, 0, 0, 0, 0, 0] & [0, 0, 0, 0, 0] & 0 & 0.0 \\\\\n",
       "\t2 & [0, 0, 0, 0, 0, 0, 0, 0, 1] & [1, 1, 1, 1, 1] & 0 & 0.0 \\\\\n",
       "\t3 & [0, 0, 0, 0, 0, 0, 0, 1, 0] & [0, 0, 0, 0, 1] & 1 & 153.0 \\\\\n",
       "\t4 & [0, 0, 0, 0, 0, 0, 0, 1, 1] & [1, 1, 1, 1, 0] & 1 & 153.0 \\\\\n",
       "\t5 & [0, 0, 0, 0, 0, 0, 1, 0, 0] & [1, 1, 1, 1, 0] & 1 & 64.0 \\\\\n",
       "\t6 & [0, 0, 0, 0, 0, 0, 1, 0, 1] & [0, 0, 0, 0, 1] & 1 & 64.0 \\\\\n",
       "\t7 & [0, 0, 0, 0, 0, 0, 1, 1, 0] & [1, 1, 1, 1, 1] & 2 & 217.0 \\\\\n",
       "\t8 & [0, 0, 0, 0, 0, 0, 1, 1, 1] & [0, 0, 0, 0, 0] & 2 & 217.0 \\\\\n",
       "\t9 & [0, 0, 0, 0, 0, 1, 0, 0, 0] & [0, 0, 0, 1, 0] & 1 & 89.0 \\\\\n",
       "\t10 & [0, 0, 0, 0, 0, 1, 0, 0, 1] & [1, 1, 1, 0, 1] & 1 & 89.0 \\\\\n",
       "\t11 & [0, 0, 0, 0, 0, 1, 0, 1, 0] & [0, 0, 0, 1, 1] & 2 & 242.0 \\\\\n",
       "\t12 & [0, 0, 0, 0, 0, 1, 0, 1, 1] & [1, 1, 1, 0, 0] & 2 & 242.0 \\\\\n",
       "\t13 & [0, 0, 0, 0, 0, 1, 1, 0, 0] & [1, 1, 1, 0, 0] & 2 & 153.0 \\\\\n",
       "\t14 & [0, 0, 0, 0, 0, 1, 1, 0, 1] & [0, 0, 0, 1, 1] & 2 & 153.0 \\\\\n",
       "\t15 & [0, 0, 0, 0, 0, 1, 1, 1, 0] & [1, 1, 1, 0, 1] & 3 & 306.0 \\\\\n",
       "\t16 & [0, 0, 0, 0, 0, 1, 1, 1, 1] & [0, 0, 0, 1, 0] & 3 & 306.0 \\\\\n",
       "\t17 & [0, 0, 0, 0, 1, 0, 0, 0, 0] & [1, 1, 1, 0, 0] & 1 & 38.3 \\\\\n",
       "\t18 & [0, 0, 0, 0, 1, 0, 0, 0, 1] & [0, 0, 0, 1, 1] & 1 & 38.3 \\\\\n",
       "\t19 & [0, 0, 0, 0, 1, 0, 0, 1, 0] & [1, 1, 1, 0, 1] & 2 & 191.3 \\\\\n",
       "\t20 & [0, 0, 0, 0, 1, 0, 0, 1, 1] & [0, 0, 0, 1, 0] & 2 & 191.3 \\\\\n",
       "\t21 & [0, 0, 0, 0, 1, 0, 1, 0, 0] & [0, 0, 0, 1, 0] & 2 & 102.3 \\\\\n",
       "\t22 & [0, 0, 0, 0, 1, 0, 1, 0, 1] & [1, 1, 1, 0, 1] & 2 & 102.3 \\\\\n",
       "\t23 & [0, 0, 0, 0, 1, 0, 1, 1, 0] & [0, 0, 0, 1, 1] & 3 & 255.3 \\\\\n",
       "\t24 & [0, 0, 0, 0, 1, 0, 1, 1, 1] & [1, 1, 1, 0, 0] & 3 & 255.3 \\\\\n",
       "\t$\\dots$ & $\\dots$ & $\\dots$ & $\\dots$ & $\\dots$ \\\\\n",
       "\\end{tabular}\n"
      ],
      "text/plain": [
       "\u001b[1m512×4 DataFrame\u001b[0m\n",
       "\u001b[1m Row \u001b[0m│\u001b[1m trajectory                      \u001b[0m\u001b[1m pattern             \u001b[0m\u001b[1m parsimony \u001b[0m\u001b[1m interv\u001b[0m ⋯\n",
       "     │\u001b[90m BitVector                       \u001b[0m\u001b[90m BitVector           \u001b[0m\u001b[90m Int64     \u001b[0m\u001b[90m Float6\u001b[0m ⋯\n",
       "─────┼──────────────────────────────────────────────────────────────────────────\n",
       "   1 │ Bool[0, 0, 0, 0, 0, 0, 0, 0, 0]  Bool[0, 0, 0, 0, 0]          0       0 ⋯\n",
       "   2 │ Bool[0, 0, 0, 0, 0, 0, 0, 0, 1]  Bool[1, 1, 1, 1, 1]          0       0\n",
       "   3 │ Bool[0, 0, 0, 0, 0, 0, 0, 1, 0]  Bool[0, 0, 0, 0, 1]          1     153\n",
       "   4 │ Bool[0, 0, 0, 0, 0, 0, 0, 1, 1]  Bool[1, 1, 1, 1, 0]          1     153\n",
       "   5 │ Bool[0, 0, 0, 0, 0, 0, 1, 0, 0]  Bool[1, 1, 1, 1, 0]          1      64 ⋯\n",
       "   6 │ Bool[0, 0, 0, 0, 0, 0, 1, 0, 1]  Bool[0, 0, 0, 0, 1]          1      64\n",
       "   7 │ Bool[0, 0, 0, 0, 0, 0, 1, 1, 0]  Bool[1, 1, 1, 1, 1]          2     217\n",
       "   8 │ Bool[0, 0, 0, 0, 0, 0, 1, 1, 1]  Bool[0, 0, 0, 0, 0]          2     217\n",
       "  ⋮  │                ⋮                          ⋮               ⋮         ⋮   ⋱\n",
       " 506 │ Bool[1, 1, 1, 1, 1, 1, 0, 0, 1]  Bool[0, 0, 1, 0, 1]          6     231 ⋯\n",
       " 507 │ Bool[1, 1, 1, 1, 1, 1, 0, 1, 0]  Bool[1, 1, 0, 1, 1]          7     384\n",
       " 508 │ Bool[1, 1, 1, 1, 1, 1, 0, 1, 1]  Bool[0, 0, 1, 0, 0]          7     384\n",
       " 509 │ Bool[1, 1, 1, 1, 1, 1, 1, 0, 0]  Bool[0, 0, 1, 0, 0]          7     295\n",
       " 510 │ Bool[1, 1, 1, 1, 1, 1, 1, 0, 1]  Bool[1, 1, 0, 1, 1]          7     295 ⋯\n",
       " 511 │ Bool[1, 1, 1, 1, 1, 1, 1, 1, 0]  Bool[0, 0, 1, 0, 1]          8     448\n",
       " 512 │ Bool[1, 1, 1, 1, 1, 1, 1, 1, 1]  Bool[1, 1, 0, 1, 0]          8     448\n",
       "\u001b[36m                                                   1 column and 497 rows omitted\u001b[0m"
      ]
     },
     "metadata": {},
     "output_type": "display_data"
    }
   ],
   "source": [
    "editing_pattern_perms = bitperm(5)\n",
    "evolutionary_trajectory_perms = bitperm(9)\n",
    "\n",
    "evolutionary_trajectories = DataFrame(trajectory = BitVector[], pattern = BitVector[], parsimony = Int[], interval = Float64[])\n",
    "for t in evolutionary_trajectory_perms\n",
    "    p = trajectory2pattern(t)\n",
    "    push!(evolutionary_trajectories, (t, p, sum(t[1:8]), sum(branch_lengths[t])))\n",
    "end\n",
    "evolutionary_trajectories"
   ]
  },
  {
   "cell_type": "code",
   "execution_count": 25,
   "metadata": {},
   "outputs": [
    {
     "data": {
      "text/html": [
       "<div><div style = \"float: left;\"><span>2820×12 DataFrame</span></div><div style = \"float: right;\"><span style = \"font-style: italic;\">2795 rows omitted</span></div><div style = \"clear: both;\"></div></div><div class = \"data-frame\" style = \"overflow-x: scroll;\"><table class = \"data-frame\" style = \"margin-bottom: 6px;\"><thead><tr class = \"header\"><th class = \"rowNumber\" style = \"font-weight: bold; text-align: right;\">Row</th><th style = \"text-align: left;\">uid</th><th style = \"text-align: left;\">synonymous</th><th style = \"text-align: left;\">creates_start</th><th style = \"text-align: left;\">creates_stop</th><th style = \"text-align: left;\">removes_stop</th><th style = \"text-align: left;\">af</th><th style = \"text-align: left;\">ar</th><th style = \"text-align: left;\">ap</th><th style = \"text-align: left;\">sm</th><th style = \"text-align: left;\">mm</th><th style = \"text-align: left;\">epattern</th><th style = \"text-align: left;\">mp_trajectory</th></tr><tr class = \"subheader headerLastRow\"><th class = \"rowNumber\" style = \"font-weight: bold; text-align: right;\"></th><th title = \"String31\" style = \"text-align: left;\">String31</th><th title = \"Bool\" style = \"text-align: left;\">Bool</th><th title = \"Bool\" style = \"text-align: left;\">Bool</th><th title = \"Bool\" style = \"text-align: left;\">Bool</th><th title = \"Bool\" style = \"text-align: left;\">Bool</th><th title = \"Union{Missing, Float64}\" style = \"text-align: left;\">Float64?</th><th title = \"Union{Missing, Float64}\" style = \"text-align: left;\">Float64?</th><th title = \"Union{Missing, Float64}\" style = \"text-align: left;\">Float64?</th><th title = \"Union{Missing, Float64}\" style = \"text-align: left;\">Float64?</th><th title = \"Union{Missing, Float64}\" style = \"text-align: left;\">Float64?</th><th title = \"BitVector\" style = \"text-align: left;\">BitVector</th><th title = \"BitVector\" style = \"text-align: left;\">BitVector</th></tr></thead><tbody><tr><td class = \"rowNumber\" style = \"font-weight: bold; text-align: right;\">1</td><td style = \"text-align: left;\">nad1eU2</td><td style = \"text-align: right;\">false</td><td style = \"text-align: right;\">true</td><td style = \"text-align: right;\">false</td><td style = \"text-align: right;\">false</td><td style = \"text-align: right;\">0.783477</td><td style = \"text-align: right;\">0.789587</td><td style = \"text-align: right;\">0.979823</td><td style = \"text-align: right;\">0.707998</td><td style = \"text-align: right;\">0.673296</td><td style = \"text-align: left;\">Bool[1, 1, 1, 1, 1]</td><td style = \"text-align: left;\">Bool[0, 0, 0, 0, 0, 0, 0, 0, 1]</td></tr><tr><td class = \"rowNumber\" style = \"font-weight: bold; text-align: right;\">2</td><td style = \"text-align: left;\">nad1eU48</td><td style = \"text-align: right;\">true</td><td style = \"text-align: right;\">false</td><td style = \"text-align: right;\">false</td><td style = \"text-align: right;\">false</td><td style = \"text-align: right;\">0.964773</td><td style = \"text-align: right;\">0.947472</td><td style = \"text-align: right;\">0.984967</td><td style = \"text-align: right;\">0.918747</td><td style = \"text-align: right;\">0.768791</td><td style = \"text-align: left;\">Bool[1, 1, 1, 1, 1]</td><td style = \"text-align: left;\">Bool[0, 0, 0, 0, 0, 0, 0, 0, 1]</td></tr><tr><td class = \"rowNumber\" style = \"font-weight: bold; text-align: right;\">3</td><td style = \"text-align: left;\">nad1eC52</td><td style = \"text-align: right;\">false</td><td style = \"text-align: right;\">false</td><td style = \"text-align: right;\">false</td><td style = \"text-align: right;\">false</td><td style = \"text-align: right;\">0.914793</td><td style = \"text-align: right;\">0.981148</td><td style = \"text-align: right;\">0.982638</td><td style = \"text-align: right;\">0.949271</td><td style = \"text-align: right;\">0.958699</td><td style = \"text-align: left;\">Bool[1, 1, 1, 1, 1]</td><td style = \"text-align: left;\">Bool[0, 0, 0, 0, 0, 0, 0, 0, 1]</td></tr><tr><td class = \"rowNumber\" style = \"font-weight: bold; text-align: right;\">4</td><td style = \"text-align: left;\">nad1eU62</td><td style = \"text-align: right;\">false</td><td style = \"text-align: right;\">false</td><td style = \"text-align: right;\">false</td><td style = \"text-align: right;\">false</td><td style = \"text-align: right;\">0.850588</td><td style = \"text-align: right;\">0.900706</td><td style = \"text-align: right;\">0.968411</td><td style = \"text-align: right;\">0.912445</td><td style = \"text-align: right;\">0.972368</td><td style = \"text-align: left;\">Bool[1, 1, 1, 1, 1]</td><td style = \"text-align: left;\">Bool[0, 0, 0, 0, 0, 0, 0, 0, 1]</td></tr><tr><td class = \"rowNumber\" style = \"font-weight: bold; text-align: right;\">5</td><td style = \"text-align: left;\">nad1eU77</td><td style = \"text-align: right;\">false</td><td style = \"text-align: right;\">false</td><td style = \"text-align: right;\">false</td><td style = \"text-align: right;\">false</td><td style = \"text-align: right;\">0.983301</td><td style = \"text-align: right;\">0.987214</td><td style = \"text-align: right;\">0.992654</td><td style = \"text-align: right;\">0.974023</td><td style = \"text-align: right;\">0.963365</td><td style = \"text-align: left;\">Bool[1, 1, 1, 1, 1]</td><td style = \"text-align: left;\">Bool[0, 0, 0, 0, 0, 0, 0, 0, 1]</td></tr><tr><td class = \"rowNumber\" style = \"font-weight: bold; text-align: right;\">6</td><td style = \"text-align: left;\">nad1eU83</td><td style = \"text-align: right;\">false</td><td style = \"text-align: right;\">false</td><td style = \"text-align: right;\">false</td><td style = \"text-align: right;\">false</td><td style = \"text-align: right;\">0.961727</td><td style = \"text-align: right;\">0.983077</td><td style = \"text-align: right;\">0.990226</td><td style = \"text-align: right;\">0.96946</td><td style = \"text-align: right;\">0.961838</td><td style = \"text-align: left;\">Bool[1, 1, 1, 1, 1]</td><td style = \"text-align: left;\">Bool[0, 0, 0, 0, 0, 0, 0, 0, 1]</td></tr><tr><td class = \"rowNumber\" style = \"font-weight: bold; text-align: right;\">7</td><td style = \"text-align: left;\">nad1eU108</td><td style = \"text-align: right;\">true</td><td style = \"text-align: right;\">false</td><td style = \"text-align: right;\">false</td><td style = \"text-align: right;\">false</td><td style = \"text-align: right;\">0.848101</td><td style = \"text-align: right;\">0.952073</td><td style = \"text-align: right;\">0.924956</td><td style = \"text-align: right;\">0.154754</td><td style = \"text-align: right;\">0.963846</td><td style = \"text-align: left;\">Bool[1, 1, 1, 1, 1]</td><td style = \"text-align: left;\">Bool[0, 0, 0, 0, 0, 0, 0, 0, 1]</td></tr><tr><td class = \"rowNumber\" style = \"font-weight: bold; text-align: right;\">8</td><td style = \"text-align: left;\">nad1eC112</td><td style = \"text-align: right;\">false</td><td style = \"text-align: right;\">false</td><td style = \"text-align: right;\">false</td><td style = \"text-align: right;\">true</td><td style = \"text-align: right;\">0.907484</td><td style = \"text-align: right;\">0.955455</td><td style = \"text-align: right;\">0.942531</td><td style = \"text-align: right;\">0.935439</td><td style = \"text-align: right;\">0.922621</td><td style = \"text-align: left;\">Bool[1, 1, 1, 1, 1]</td><td style = \"text-align: left;\">Bool[0, 0, 0, 0, 0, 0, 0, 0, 1]</td></tr><tr><td class = \"rowNumber\" style = \"font-weight: bold; text-align: right;\">9</td><td style = \"text-align: left;\">nad1eC128</td><td style = \"text-align: right;\">false</td><td style = \"text-align: right;\">false</td><td style = \"text-align: right;\">false</td><td style = \"text-align: right;\">false</td><td style = \"text-align: right;\">0.908873</td><td style = \"text-align: right;\">0.954293</td><td style = \"text-align: right;\">0.946806</td><td style = \"text-align: right;\">0.871972</td><td style = \"text-align: right;\">0.922306</td><td style = \"text-align: left;\">Bool[1, 1, 1, 1, 1]</td><td style = \"text-align: left;\">Bool[0, 0, 0, 0, 0, 0, 0, 0, 1]</td></tr><tr><td class = \"rowNumber\" style = \"font-weight: bold; text-align: right;\">10</td><td style = \"text-align: left;\">nad1eU143</td><td style = \"text-align: right;\">false</td><td style = \"text-align: right;\">false</td><td style = \"text-align: right;\">false</td><td style = \"text-align: right;\">false</td><td style = \"text-align: right;\">0.845098</td><td style = \"text-align: right;\">0.942611</td><td style = \"text-align: right;\">0.922639</td><td style = \"text-align: right;\">0.851991</td><td style = \"text-align: right;\">0.901762</td><td style = \"text-align: left;\">Bool[1, 1, 1, 1, 1]</td><td style = \"text-align: left;\">Bool[0, 0, 0, 0, 0, 0, 0, 0, 1]</td></tr><tr><td class = \"rowNumber\" style = \"font-weight: bold; text-align: right;\">11</td><td style = \"text-align: left;\">nad1eU146</td><td style = \"text-align: right;\">false</td><td style = \"text-align: right;\">false</td><td style = \"text-align: right;\">false</td><td style = \"text-align: right;\">false</td><td style = \"text-align: right;\">0.836852</td><td style = \"text-align: right;\">0.967927</td><td style = \"text-align: right;\">0.973431</td><td style = \"text-align: right;\">0.943978</td><td style = \"text-align: right;\">0.897545</td><td style = \"text-align: left;\">Bool[1, 1, 1, 1, 1]</td><td style = \"text-align: left;\">Bool[0, 0, 0, 0, 0, 0, 0, 0, 1]</td></tr><tr><td class = \"rowNumber\" style = \"font-weight: bold; text-align: right;\">12</td><td style = \"text-align: left;\">nad1eC157</td><td style = \"text-align: right;\">false</td><td style = \"text-align: right;\">false</td><td style = \"text-align: right;\">false</td><td style = \"text-align: right;\">true</td><td style = \"text-align: right;\">0.655311</td><td style = \"text-align: right;\">0.880111</td><td style = \"text-align: right;\">0.83829</td><td style = \"text-align: right;\">0.771079</td><td style = \"text-align: right;\">0.811094</td><td style = \"text-align: left;\">Bool[1, 1, 1, 1, 1]</td><td style = \"text-align: left;\">Bool[0, 0, 0, 0, 0, 0, 0, 0, 1]</td></tr><tr><td class = \"rowNumber\" style = \"font-weight: bold; text-align: right;\">13</td><td style = \"text-align: left;\">nad1eU182</td><td style = \"text-align: right;\">false</td><td style = \"text-align: right;\">false</td><td style = \"text-align: right;\">false</td><td style = \"text-align: right;\">false</td><td style = \"text-align: right;\">0.821727</td><td style = \"text-align: right;\">0.962963</td><td style = \"text-align: right;\">0.86985</td><td style = \"text-align: right;\">0.911018</td><td style = \"text-align: right;\">0.961833</td><td style = \"text-align: left;\">Bool[1, 1, 1, 1, 1]</td><td style = \"text-align: left;\">Bool[0, 0, 0, 0, 0, 0, 0, 0, 1]</td></tr><tr><td style = \"text-align: right;\">&vellip;</td><td style = \"text-align: right;\">&vellip;</td><td style = \"text-align: right;\">&vellip;</td><td style = \"text-align: right;\">&vellip;</td><td style = \"text-align: right;\">&vellip;</td><td style = \"text-align: right;\">&vellip;</td><td style = \"text-align: right;\">&vellip;</td><td style = \"text-align: right;\">&vellip;</td><td style = \"text-align: right;\">&vellip;</td><td style = \"text-align: right;\">&vellip;</td><td style = \"text-align: right;\">&vellip;</td><td style = \"text-align: right;\">&vellip;</td><td style = \"text-align: right;\">&vellip;</td></tr><tr><td class = \"rowNumber\" style = \"font-weight: bold; text-align: right;\">2809</td><td style = \"text-align: left;\">mat-LeptoeU1167</td><td style = \"text-align: right;\">true</td><td style = \"text-align: right;\">false</td><td style = \"text-align: right;\">false</td><td style = \"text-align: right;\">false</td><td style = \"font-style: italic; text-align: right;\">missing</td><td style = \"font-style: italic; text-align: right;\">missing</td><td style = \"font-style: italic; text-align: right;\">missing</td><td style = \"font-style: italic; text-align: right;\">missing</td><td style = \"text-align: right;\">0.102273</td><td style = \"text-align: left;\">Bool[0, 0, 0, 0, 1]</td><td style = \"text-align: left;\">Bool[0, 0, 0, 0, 0, 0, 0, 1, 0]</td></tr><tr><td class = \"rowNumber\" style = \"font-weight: bold; text-align: right;\">2810</td><td style = \"text-align: left;\">mat-LeptoeU1393</td><td style = \"text-align: right;\">false</td><td style = \"text-align: right;\">false</td><td style = \"text-align: right;\">false</td><td style = \"text-align: right;\">false</td><td style = \"font-style: italic; text-align: right;\">missing</td><td style = \"font-style: italic; text-align: right;\">missing</td><td style = \"font-style: italic; text-align: right;\">missing</td><td style = \"font-style: italic; text-align: right;\">missing</td><td style = \"text-align: right;\">0.113095</td><td style = \"text-align: left;\">Bool[0, 0, 0, 0, 1]</td><td style = \"text-align: left;\">Bool[0, 0, 0, 0, 0, 0, 0, 1, 0]</td></tr><tr><td class = \"rowNumber\" style = \"font-weight: bold; text-align: right;\">2811</td><td style = \"text-align: left;\">mat-LeptoeU1583</td><td style = \"text-align: right;\">false</td><td style = \"text-align: right;\">false</td><td style = \"text-align: right;\">false</td><td style = \"text-align: right;\">false</td><td style = \"font-style: italic; text-align: right;\">missing</td><td style = \"font-style: italic; text-align: right;\">missing</td><td style = \"font-style: italic; text-align: right;\">missing</td><td style = \"font-style: italic; text-align: right;\">missing</td><td style = \"text-align: right;\">0.78308</td><td style = \"text-align: left;\">Bool[0, 0, 0, 0, 1]</td><td style = \"text-align: left;\">Bool[0, 0, 0, 0, 0, 0, 1, 0, 1]</td></tr><tr><td class = \"rowNumber\" style = \"font-weight: bold; text-align: right;\">2812</td><td style = \"text-align: left;\">mat-LeptoeU1616</td><td style = \"text-align: right;\">false</td><td style = \"text-align: right;\">false</td><td style = \"text-align: right;\">false</td><td style = \"text-align: right;\">false</td><td style = \"font-style: italic; text-align: right;\">missing</td><td style = \"font-style: italic; text-align: right;\">missing</td><td style = \"font-style: italic; text-align: right;\">missing</td><td style = \"font-style: italic; text-align: right;\">missing</td><td style = \"text-align: right;\">0.675</td><td style = \"text-align: left;\">Bool[0, 0, 0, 0, 1]</td><td style = \"text-align: left;\">Bool[0, 0, 0, 0, 0, 0, 1, 0, 1]</td></tr><tr><td class = \"rowNumber\" style = \"font-weight: bold; text-align: right;\">2813</td><td style = \"text-align: left;\">mat-LeptoeU1631</td><td style = \"text-align: right;\">false</td><td style = \"text-align: right;\">false</td><td style = \"text-align: right;\">false</td><td style = \"text-align: right;\">false</td><td style = \"font-style: italic; text-align: right;\">missing</td><td style = \"font-style: italic; text-align: right;\">missing</td><td style = \"font-style: italic; text-align: right;\">missing</td><td style = \"font-style: italic; text-align: right;\">missing</td><td style = \"text-align: right;\">0.084991</td><td style = \"text-align: left;\">Bool[0, 0, 0, 0, 1]</td><td style = \"text-align: left;\">Bool[0, 0, 0, 0, 0, 0, 0, 1, 0]</td></tr><tr><td class = \"rowNumber\" style = \"font-weight: bold; text-align: right;\">2814</td><td style = \"text-align: left;\">mat-LeptoeC1636</td><td style = \"text-align: right;\">false</td><td style = \"text-align: right;\">false</td><td style = \"text-align: right;\">false</td><td style = \"text-align: right;\">false</td><td style = \"font-style: italic; text-align: right;\">missing</td><td style = \"font-style: italic; text-align: right;\">missing</td><td style = \"font-style: italic; text-align: right;\">missing</td><td style = \"font-style: italic; text-align: right;\">missing</td><td style = \"text-align: right;\">0.122486</td><td style = \"text-align: left;\">Bool[0, 0, 0, 0, 1]</td><td style = \"text-align: left;\">Bool[0, 0, 0, 0, 0, 0, 1, 0, 1]</td></tr><tr><td class = \"rowNumber\" style = \"font-weight: bold; text-align: right;\">2815</td><td style = \"text-align: left;\">mat-LeptoeU1676</td><td style = \"text-align: right;\">false</td><td style = \"text-align: right;\">false</td><td style = \"text-align: right;\">false</td><td style = \"text-align: right;\">false</td><td style = \"font-style: italic; text-align: right;\">missing</td><td style = \"font-style: italic; text-align: right;\">missing</td><td style = \"font-style: italic; text-align: right;\">missing</td><td style = \"font-style: italic; text-align: right;\">missing</td><td style = \"text-align: right;\">0.84965</td><td style = \"text-align: left;\">Bool[0, 0, 0, 0, 1]</td><td style = \"text-align: left;\">Bool[0, 0, 0, 0, 0, 0, 0, 1, 0]</td></tr><tr><td class = \"rowNumber\" style = \"font-weight: bold; text-align: right;\">2816</td><td style = \"text-align: left;\">mat-LeptoeU1779</td><td style = \"text-align: right;\">true</td><td style = \"text-align: right;\">false</td><td style = \"text-align: right;\">false</td><td style = \"text-align: right;\">false</td><td style = \"font-style: italic; text-align: right;\">missing</td><td style = \"font-style: italic; text-align: right;\">missing</td><td style = \"font-style: italic; text-align: right;\">missing</td><td style = \"font-style: italic; text-align: right;\">missing</td><td style = \"text-align: right;\">0.127072</td><td style = \"text-align: left;\">Bool[0, 0, 0, 0, 1]</td><td style = \"text-align: left;\">Bool[0, 0, 0, 0, 0, 0, 0, 1, 0]</td></tr><tr><td class = \"rowNumber\" style = \"font-weight: bold; text-align: right;\">2817</td><td style = \"text-align: left;\">mat-LeptoeC1783</td><td style = \"text-align: right;\">false</td><td style = \"text-align: right;\">false</td><td style = \"text-align: right;\">false</td><td style = \"text-align: right;\">true</td><td style = \"font-style: italic; text-align: right;\">missing</td><td style = \"font-style: italic; text-align: right;\">missing</td><td style = \"font-style: italic; text-align: right;\">missing</td><td style = \"font-style: italic; text-align: right;\">missing</td><td style = \"text-align: right;\">0.801105</td><td style = \"text-align: left;\">Bool[0, 0, 0, 0, 1]</td><td style = \"text-align: left;\">Bool[0, 0, 0, 0, 0, 0, 1, 0, 1]</td></tr><tr><td class = \"rowNumber\" style = \"font-weight: bold; text-align: right;\">2818</td><td style = \"text-align: left;\">mat-LeptoeC1795</td><td style = \"text-align: right;\">false</td><td style = \"text-align: right;\">false</td><td style = \"text-align: right;\">false</td><td style = \"text-align: right;\">true</td><td style = \"font-style: italic; text-align: right;\">missing</td><td style = \"font-style: italic; text-align: right;\">missing</td><td style = \"font-style: italic; text-align: right;\">missing</td><td style = \"font-style: italic; text-align: right;\">missing</td><td style = \"text-align: right;\">0.829044</td><td style = \"text-align: left;\">Bool[0, 0, 0, 0, 1]</td><td style = \"text-align: left;\">Bool[0, 0, 0, 0, 0, 0, 1, 0, 1]</td></tr><tr><td class = \"rowNumber\" style = \"font-weight: bold; text-align: right;\">2819</td><td style = \"text-align: left;\">mat-LeptoeU1803</td><td style = \"text-align: right;\">true</td><td style = \"text-align: right;\">false</td><td style = \"text-align: right;\">false</td><td style = \"text-align: right;\">false</td><td style = \"font-style: italic; text-align: right;\">missing</td><td style = \"font-style: italic; text-align: right;\">missing</td><td style = \"font-style: italic; text-align: right;\">missing</td><td style = \"font-style: italic; text-align: right;\">missing</td><td style = \"text-align: right;\">0.403478</td><td style = \"text-align: left;\">Bool[0, 0, 0, 0, 1]</td><td style = \"text-align: left;\">Bool[0, 0, 0, 0, 0, 0, 1, 0, 1]</td></tr><tr><td class = \"rowNumber\" style = \"font-weight: bold; text-align: right;\">2820</td><td style = \"text-align: left;\">mat-LeptoeU2020</td><td style = \"text-align: right;\">false</td><td style = \"text-align: right;\">false</td><td style = \"text-align: right;\">false</td><td style = \"text-align: right;\">false</td><td style = \"font-style: italic; text-align: right;\">missing</td><td style = \"font-style: italic; text-align: right;\">missing</td><td style = \"font-style: italic; text-align: right;\">missing</td><td style = \"font-style: italic; text-align: right;\">missing</td><td style = \"text-align: right;\">0.709052</td><td style = \"text-align: left;\">Bool[0, 0, 0, 0, 1]</td><td style = \"text-align: left;\">Bool[0, 0, 0, 0, 0, 0, 0, 1, 0]</td></tr></tbody></table></div>"
      ],
      "text/latex": [
       "\\begin{tabular}{r|cccccccc}\n",
       "\t& uid & synonymous & creates\\_start & creates\\_stop & removes\\_stop & af & ar & \\\\\n",
       "\t\\hline\n",
       "\t& String31 & Bool & Bool & Bool & Bool & Float64? & Float64? & \\\\\n",
       "\t\\hline\n",
       "\t1 & nad1eU2 & 0 & 1 & 0 & 0 & 0.783477 & 0.789587 & $\\dots$ \\\\\n",
       "\t2 & nad1eU48 & 1 & 0 & 0 & 0 & 0.964773 & 0.947472 & $\\dots$ \\\\\n",
       "\t3 & nad1eC52 & 0 & 0 & 0 & 0 & 0.914793 & 0.981148 & $\\dots$ \\\\\n",
       "\t4 & nad1eU62 & 0 & 0 & 0 & 0 & 0.850588 & 0.900706 & $\\dots$ \\\\\n",
       "\t5 & nad1eU77 & 0 & 0 & 0 & 0 & 0.983301 & 0.987214 & $\\dots$ \\\\\n",
       "\t6 & nad1eU83 & 0 & 0 & 0 & 0 & 0.961727 & 0.983077 & $\\dots$ \\\\\n",
       "\t7 & nad1eU108 & 1 & 0 & 0 & 0 & 0.848101 & 0.952073 & $\\dots$ \\\\\n",
       "\t8 & nad1eC112 & 0 & 0 & 0 & 1 & 0.907484 & 0.955455 & $\\dots$ \\\\\n",
       "\t9 & nad1eC128 & 0 & 0 & 0 & 0 & 0.908873 & 0.954293 & $\\dots$ \\\\\n",
       "\t10 & nad1eU143 & 0 & 0 & 0 & 0 & 0.845098 & 0.942611 & $\\dots$ \\\\\n",
       "\t11 & nad1eU146 & 0 & 0 & 0 & 0 & 0.836852 & 0.967927 & $\\dots$ \\\\\n",
       "\t12 & nad1eC157 & 0 & 0 & 0 & 1 & 0.655311 & 0.880111 & $\\dots$ \\\\\n",
       "\t13 & nad1eU182 & 0 & 0 & 0 & 0 & 0.821727 & 0.962963 & $\\dots$ \\\\\n",
       "\t14 & nad1eU202 & 0 & 0 & 0 & 0 & 0.732203 & 0.947869 & $\\dots$ \\\\\n",
       "\t15 & nad1eU203 & 0 & 0 & 0 & 0 & 0.694915 & 0.937881 & $\\dots$ \\\\\n",
       "\t16 & nad1eU208 & 0 & 0 & 0 & 0 & 0.690476 & 0.951644 & $\\dots$ \\\\\n",
       "\t17 & nad1eU230 & 0 & 0 & 0 & 0 & 0.516667 & 0.934968 & $\\dots$ \\\\\n",
       "\t18 & nad1eC242 & 0 & 0 & 0 & 0 & 0.42 & 0.898703 & $\\dots$ \\\\\n",
       "\t19 & nad1eU257 & 0 & 0 & 0 & 0 & 0.728889 & 0.966495 & $\\dots$ \\\\\n",
       "\t20 & nad1eU274 & 0 & 0 & 0 & 0 & 0.21978 & 0.764606 & $\\dots$ \\\\\n",
       "\t21 & nad1eU284 & 0 & 0 & 0 & 0 & 0.179487 & 0.803296 & $\\dots$ \\\\\n",
       "\t22 & nad1eU290 & 0 & 0 & 0 & 0 & 0.5 & 0.949126 & $\\dots$ \\\\\n",
       "\t23 & nad1eU311 & 0 & 0 & 0 & 0 & 0.587629 & 0.969257 & $\\dots$ \\\\\n",
       "\t24 & nad1eU317 & 0 & 0 & 0 & 0 & 0.6 & 0.938158 & $\\dots$ \\\\\n",
       "\t$\\dots$ & $\\dots$ & $\\dots$ & $\\dots$ & $\\dots$ & $\\dots$ & $\\dots$ & $\\dots$ &  \\\\\n",
       "\\end{tabular}\n"
      ],
      "text/plain": [
       "\u001b[1m2820×12 DataFrame\u001b[0m\n",
       "\u001b[1m  Row \u001b[0m│\u001b[1m uid             \u001b[0m\u001b[1m synonymous \u001b[0m\u001b[1m creates_start \u001b[0m\u001b[1m creates_stop \u001b[0m\u001b[1m removes_stop\u001b[0m ⋯\n",
       "      │\u001b[90m String31        \u001b[0m\u001b[90m Bool       \u001b[0m\u001b[90m Bool          \u001b[0m\u001b[90m Bool         \u001b[0m\u001b[90m Bool        \u001b[0m ⋯\n",
       "──────┼─────────────────────────────────────────────────────────────────────────\n",
       "    1 │ nad1eU2               false           true         false         false ⋯\n",
       "    2 │ nad1eU48               true          false         false         false\n",
       "    3 │ nad1eC52              false          false         false         false\n",
       "    4 │ nad1eU62              false          false         false         false\n",
       "    5 │ nad1eU77              false          false         false         false ⋯\n",
       "    6 │ nad1eU83              false          false         false         false\n",
       "    7 │ nad1eU108              true          false         false         false\n",
       "    8 │ nad1eC112             false          false         false          true\n",
       "  ⋮   │        ⋮             ⋮             ⋮             ⋮             ⋮       ⋱\n",
       " 2814 │ mat-LeptoeC1636       false          false         false         false ⋯\n",
       " 2815 │ mat-LeptoeU1676       false          false         false         false\n",
       " 2816 │ mat-LeptoeU1779        true          false         false         false\n",
       " 2817 │ mat-LeptoeC1783       false          false         false          true\n",
       " 2818 │ mat-LeptoeC1795       false          false         false          true ⋯\n",
       " 2819 │ mat-LeptoeU1803        true          false         false         false\n",
       " 2820 │ mat-LeptoeU2020       false          false         false         false\n",
       "\u001b[36m                                                 7 columns and 2805 rows omitted\u001b[0m"
      ]
     },
     "metadata": {},
     "output_type": "display_data"
    }
   ],
   "source": [
    "organelle = \"mt\"\n",
    "sites = CSV.File(\"../data/$organelle/edit_sites/all_\" * organelle * \"_sites.tsv\") |> DataFrame\n",
    "#= # filter out sites with max editing < 0.5\n",
    "function significant_site(site)\n",
    "    any(skipmissing([site.af, site.ap, site.ar, site.sm, site.mm]) .>= 0.5) && return true\n",
    "    false\n",
    "end\n",
    "filter!(x -> significant_site(x), sites) =#\n",
    "\n",
    "# generate editing patterns\n",
    "epatterns = BitVector[]\n",
    "for site in eachrow(sites)\n",
    "    push!(epatterns, .~ismissing.([site.af,site.ar,site.ap,site.sm,site.mm]))\n",
    "end\n",
    "sites.epattern = epatterns\n",
    "\n",
    "bypattern = groupby(evolutionary_trajectories, :pattern)\n",
    "\n",
    "mp_trajectories = BitVector[]\n",
    "for p in epatterns\n",
    "    possible_trajectories = bypattern[(pattern = p,)]\n",
    "    maxpar = first(sort(possible_trajectories,:parsimony).parsimony)\n",
    "    most_parsimonious = possible_trajectories[possible_trajectories.parsimony .== maxpar, :]\n",
    "    push!(mp_trajectories, most_parsimonious[sample(1:nrow(most_parsimonious), Weights(most_parsimonious.interval)), :trajectory])\n",
    "end\n",
    "sites.mp_trajectory = mp_trajectories\n",
    "sites"
   ]
  },
  {
   "cell_type": "code",
   "execution_count": 26,
   "metadata": {},
   "outputs": [
    {
     "data": {
      "text/html": [
       "<div><div style = \"float: left;\"><span>5×10 DataFrame</span></div><div style = \"clear: both;\"></div></div><div class = \"data-frame\" style = \"overflow-x: scroll;\"><table class = \"data-frame\" style = \"margin-bottom: 6px;\"><thead><tr class = \"header\"><th class = \"rowNumber\" style = \"font-weight: bold; text-align: right;\">Row</th><th style = \"text-align: left;\">partition</th><th style = \"text-align: left;\">B1</th><th style = \"text-align: left;\">B2</th><th style = \"text-align: left;\">B3</th><th style = \"text-align: left;\">B4</th><th style = \"text-align: left;\">B5</th><th style = \"text-align: left;\">B6</th><th style = \"text-align: left;\">B7</th><th style = \"text-align: left;\">B8</th><th style = \"text-align: left;\">B9</th></tr><tr class = \"subheader headerLastRow\"><th class = \"rowNumber\" style = \"font-weight: bold; text-align: right;\"></th><th title = \"String\" style = \"text-align: left;\">String</th><th title = \"Tuple{Int64, Int64}\" style = \"text-align: left;\">Tuple…</th><th title = \"Tuple{Int64, Int64}\" style = \"text-align: left;\">Tuple…</th><th title = \"Tuple{Int64, Int64}\" style = \"text-align: left;\">Tuple…</th><th title = \"Tuple{Int64, Int64}\" style = \"text-align: left;\">Tuple…</th><th title = \"Tuple{Int64, Int64}\" style = \"text-align: left;\">Tuple…</th><th title = \"Tuple{Int64, Int64}\" style = \"text-align: left;\">Tuple…</th><th title = \"Tuple{Int64, Int64}\" style = \"text-align: left;\">Tuple…</th><th title = \"Tuple{Int64, Int64}\" style = \"text-align: left;\">Tuple…</th><th title = \"Tuple{Int64, Int64}\" style = \"text-align: left;\">Tuple…</th></tr></thead><tbody><tr><td class = \"rowNumber\" style = \"font-weight: bold; text-align: right;\">1</td><td style = \"text-align: left;\">all sites</td><td style = \"text-align: left;\">(69, 29)</td><td style = \"text-align: left;\">(23, 23)</td><td style = \"text-align: left;\">(52, 16)</td><td style = \"text-align: left;\">(73, 26)</td><td style = \"text-align: left;\">(56, 31)</td><td style = \"text-align: left;\">(111, 42)</td><td style = \"text-align: left;\">(227, 136)</td><td style = \"text-align: left;\">(312, 539)</td><td style = \"text-align: left;\">(1948, 872)</td></tr><tr><td class = \"rowNumber\" style = \"font-weight: bold; text-align: right;\">2</td><td style = \"text-align: left;\">synonymous</td><td style = \"text-align: left;\">(52, 7)</td><td style = \"text-align: left;\">(13, 12)</td><td style = \"text-align: left;\">(31, 8)</td><td style = \"text-align: left;\">(46, 8)</td><td style = \"text-align: left;\">(19, 8)</td><td style = \"text-align: left;\">(48, 6)</td><td style = \"text-align: left;\">(13, 19)</td><td style = \"text-align: left;\">(68, 40)</td><td style = \"text-align: left;\">(103, 259)</td></tr><tr><td class = \"rowNumber\" style = \"font-weight: bold; text-align: right;\">3</td><td style = \"text-align: left;\">sense</td><td style = \"text-align: left;\">(17, 21)</td><td style = \"text-align: left;\">(10, 11)</td><td style = \"text-align: left;\">(21, 8)</td><td style = \"text-align: left;\">(27, 18)</td><td style = \"text-align: left;\">(33, 23)</td><td style = \"text-align: left;\">(62, 32)</td><td style = \"text-align: left;\">(180, 110)</td><td style = \"text-align: left;\">(223, 408)</td><td style = \"text-align: left;\">(1490, 553)</td></tr><tr><td class = \"rowNumber\" style = \"font-weight: bold; text-align: right;\">4</td><td style = \"text-align: left;\">creates start</td><td style = \"text-align: left;\">(0, 0)</td><td style = \"text-align: left;\">(0, 0)</td><td style = \"text-align: left;\">(0, 0)</td><td style = \"text-align: left;\">(0, 0)</td><td style = \"text-align: left;\">(0, 0)</td><td style = \"text-align: left;\">(1, 0)</td><td style = \"text-align: left;\">(0, 0)</td><td style = \"text-align: left;\">(4, 2)</td><td style = \"text-align: left;\">(16, 5)</td></tr><tr><td class = \"rowNumber\" style = \"font-weight: bold; text-align: right;\">5</td><td style = \"text-align: left;\">removes stop</td><td style = \"text-align: left;\">(0, 1)</td><td style = \"text-align: left;\">(0, 0)</td><td style = \"text-align: left;\">(0, 0)</td><td style = \"text-align: left;\">(0, 0)</td><td style = \"text-align: left;\">(4, 0)</td><td style = \"text-align: left;\">(0, 4)</td><td style = \"text-align: left;\">(34, 7)</td><td style = \"text-align: left;\">(17, 89)</td><td style = \"text-align: left;\">(339, 55)</td></tr></tbody></table></div>"
      ],
      "text/latex": [
       "\\begin{tabular}{r|ccccccccc}\n",
       "\t& partition & B1 & B2 & B3 & B4 & B5 & B6 & B7 & \\\\\n",
       "\t\\hline\n",
       "\t& String & Tuple… & Tuple… & Tuple… & Tuple… & Tuple… & Tuple… & Tuple… & \\\\\n",
       "\t\\hline\n",
       "\t1 & all sites & (69, 29) & (23, 23) & (52, 16) & (73, 26) & (56, 31) & (111, 42) & (227, 136) & $\\dots$ \\\\\n",
       "\t2 & synonymous & (52, 7) & (13, 12) & (31, 8) & (46, 8) & (19, 8) & (48, 6) & (13, 19) & $\\dots$ \\\\\n",
       "\t3 & sense & (17, 21) & (10, 11) & (21, 8) & (27, 18) & (33, 23) & (62, 32) & (180, 110) & $\\dots$ \\\\\n",
       "\t4 & creates start & (0, 0) & (0, 0) & (0, 0) & (0, 0) & (0, 0) & (1, 0) & (0, 0) & $\\dots$ \\\\\n",
       "\t5 & removes stop & (0, 1) & (0, 0) & (0, 0) & (0, 0) & (4, 0) & (0, 4) & (34, 7) & $\\dots$ \\\\\n",
       "\\end{tabular}\n"
      ],
      "text/plain": [
       "\u001b[1m5×10 DataFrame\u001b[0m\n",
       "\u001b[1m Row \u001b[0m│\u001b[1m partition     \u001b[0m\u001b[1m B1       \u001b[0m\u001b[1m B2       \u001b[0m\u001b[1m B3       \u001b[0m\u001b[1m B4       \u001b[0m\u001b[1m B5       \u001b[0m\u001b[1m B6    \u001b[0m ⋯\n",
       "     │\u001b[90m String        \u001b[0m\u001b[90m Tuple…   \u001b[0m\u001b[90m Tuple…   \u001b[0m\u001b[90m Tuple…   \u001b[0m\u001b[90m Tuple…   \u001b[0m\u001b[90m Tuple…   \u001b[0m\u001b[90m Tuple…\u001b[0m ⋯\n",
       "─────┼──────────────────────────────────────────────────────────────────────────\n",
       "   1 │ all sites      (69, 29)  (23, 23)  (52, 16)  (73, 26)  (56, 31)  (111,  ⋯\n",
       "   2 │ synonymous     (52, 7)   (13, 12)  (31, 8)   (46, 8)   (19, 8)   (48, 6\n",
       "   3 │ sense          (17, 21)  (10, 11)  (21, 8)   (27, 18)  (33, 23)  (62, 3\n",
       "   4 │ creates start  (0, 0)    (0, 0)    (0, 0)    (0, 0)    (0, 0)    (1, 0)\n",
       "   5 │ removes stop   (0, 1)    (0, 0)    (0, 0)    (0, 0)    (4, 0)    (0, 4) ⋯\n",
       "\u001b[36m                                                               4 columns omitted\u001b[0m"
      ]
     },
     "metadata": {},
     "output_type": "display_data"
    }
   ],
   "source": [
    "evolutionary_changes = DataFrame(partition = String[], B1 = Tuple{Int, Int}[], B2 = Tuple{Int, Int}[], B3 = Tuple{Int, Int}[], B4 = Tuple{Int, Int}[],\n",
    "     B5 = Tuple{Int, Int}[], B6 = Tuple{Int, Int}[], B7 = Tuple{Int, Int}[], B8 = Tuple{Int, Int}[], B9 = Tuple{Int, Int}[])\n",
    "\n",
    "function total_gains_and_losses(partition::DataFrame)\n",
    "    total_gains = zeros(Int, 9)\n",
    "    total_losses = zeros(Int, 9)\n",
    "    for site in eachrow(partition)\n",
    "        gains, losses = gains_and_losses(site.mp_trajectory)\n",
    "        total_gains .+= gains\n",
    "        total_losses .+= losses\n",
    "    end\n",
    "    first.(zip.(total_gains, total_losses))\n",
    "end\n",
    "\n",
    "push!(evolutionary_changes, (\"all sites\", total_gains_and_losses(sites)...))\n",
    "push!(evolutionary_changes, (\"synonymous\", total_gains_and_losses(sites[sites.synonymous, :])...))\n",
    "push!(evolutionary_changes, (\"sense\", total_gains_and_losses(sites[.~sites.synonymous .& .~sites.creates_start .& .~sites.removes_stop, :])...))\n",
    "push!(evolutionary_changes, (\"creates start\", total_gains_and_losses(sites[sites.creates_start, :])...))\n",
    "push!(evolutionary_changes, (\"removes stop\", total_gains_and_losses(sites[sites.removes_stop, :])...))\n",
    "\n",
    "evolutionary_changes\n"
   ]
  },
  {
   "cell_type": "code",
   "execution_count": 27,
   "metadata": {},
   "outputs": [
    {
     "data": {
      "text/plain": [
       "\"mt gains&losses.tsv\""
      ]
     },
     "metadata": {},
     "output_type": "display_data"
    }
   ],
   "source": [
    "CSV.write(\"$organelle gains&losses.tsv\", evolutionary_changes; delim = '\\t')"
   ]
  }
 ],
 "metadata": {
  "kernelspec": {
   "display_name": "Julia 1.11.5",
   "language": "julia",
   "name": "julia-1.11"
  },
  "language_info": {
   "file_extension": ".jl",
   "mimetype": "application/julia",
   "name": "julia",
   "version": "1.11.5"
  }
 },
 "nbformat": 4,
 "nbformat_minor": 2
}
